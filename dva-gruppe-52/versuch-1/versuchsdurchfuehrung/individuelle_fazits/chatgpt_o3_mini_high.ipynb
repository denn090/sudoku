{
 "cells": [
  {
   "cell_type": "markdown",
   "metadata": {},
   "source": [
    "# ChatGPT o3-mini-high"
   ]
  },
  {
   "cell_type": "markdown",
   "metadata": {},
   "source": [
    "Das Modell **ChatGPT o3-mini-high** ist eine Variante des o3-mini-Modells von OpenAI, das im Januar 2025 veröffentlicht wurde. Es zeichnet sich durch erweiterte reasoning-Fähigkeiten aus und ist besonders für komplexe Aufgaben in den Bereichen Mathematik, Programmierung und Wissenschaft optimiert. Im Vergleich zu seinem Vorgänger o1-mini bietet o3-mini-high eine verbesserte Leistung bei geringeren Kosten und schnellerer Reaktionszeit. Laut OpenAI ist es speziell auf Coding- und Logik-Aufgaben ausgelegt. Auffällig im Vergleich zu anderen ChatGPT-Modellen ist vor allem zunächst die Menge der Ausgabe. So werden nur die wichtigsten Aspekte am Ende prägnant ausgegeben. Möchte man eine Erklärung eines beispielsweise generierten Codes, muss man explizit danach fragen. Zudem ist der generierte Code sehr clean und so einfach wie möglich gehalten. Die Aufgabe im Prompt wird dabei stehts genau eingehalten. Die Ladezeit der Antwort ist hier ebenfalls anders, wie in anderen Modellen. So lässt sich o3-mini-high mehr Zeit fürs \"Überlegen\" und schreibt dafür weniger Output."
   ]
  },
  {
   "cell_type": "markdown",
   "metadata": {},
   "source": [
    "Bei der Generierung des Codes für das Pong Spiel fällt vor allem die Geschwindigkeit der Ausgabe auf. So lässt sich das Modell relativ viel Zeit und beginnt erst nach einer genauen Analyse des Prompts mit der Erstellung des Codes. Der Code ist heirbei klar strukturiert. Zu Beginn wird das Spielfenster mit fester Breite und Höhe erstellt. Danach werden verschiedene Konstanten für Farben, Schlägerabmessungen (Breite, Höhe) und den Ballradius definiert. Die Positionen des Spieler- und Gegnerpaddles sowie die Startposition und Geschwindigkeiten (dx, dy) des Balls werden festgelegt. Das Spiel seblst wird dann eine while-Schleife implementiert.\n",
    "Das Ergebnis ist besonders bemerkenswert, da das Spiel möglichst einfach gehalten ist und nur die angeforderten Funktionen implementiert sind. Die Gegner-KI ist extrem gut und leistet sich keine Fehler. Auch die Eingabe mit den Tasten funktioniert perfekt und das Spiel läuft flüssig. Der Ball macht dabei realistische Bewegugnen und es sind auch keine Grafik-Fehler zu erkennen.\n",
    "Wenn das Spiel beendet wird, wird noch eine kurzer Zwischenscreen mit dem Enstand angezeigt. Diese Fumktion war im Prompt nicht angegeben und wurde von der KI selbstständig erweitert."
   ]
  },
  {
   "cell_type": "markdown",
   "metadata": {},
   "source": [
    "Ähnliches gilt zudem für den Taschenrechner-Code. Zunächst werden hier die einzelnen Methoden zum Addieren, Subtrahieren, Multiplizieren und Dividieren implementiert. Ein division by zero error wird hier zudem abgefangen. Danach werden die Methoden in der main-Methode verwendet. Das Ergebnis ist ein interaktiver Taschenrechner bei dem nach Runen des Notebooks die gewünschte Rechenoperation mit den gewünschten Zahl eingegeben werden kann. Das Ergebnis wird dann korrekt ausgegeben."
   ]
  },
  {
   "cell_type": "markdown",
   "metadata": {},
   "source": [
    "Bei der Sortieraufgabe hat sich 03-mini-high für die Implementierung des Merge Sort Algorithmus entschieden. Hierfür wurden zwei Methoden erstellt. Die Erste zerlegt die Liste rekursiv in kleinere Teilmengen (bis maximal ein Element). Die Zweite führt zwei sortierte Teillisten zusammen, indem jeweils das kleinere Element ausgewählt wird. Das Ergebnis ist eine vollständig sortierte Liste. "
   ]
  },
  {
   "cell_type": "markdown",
   "metadata": {},
   "source": [
    "Zusammenfassend lässt sich sagen, dass o3-mini-high alle Aufgaben korrekt lösen konnte. Die Ergebnisse haben funktioniert und die Prompts wurden wie gewünscht bearbeitet und ausgegeben. Das Model ist dabei in der Lage cleanen Code zu erstellen, der einfach aber funktional ist. Zudem fällt auf, dass der Code nicht noch explizit erklärt wurde bei der Ausgabe, wie bei ChatGPT-4o, sondern nur der Code ausgegeben wurde und man eine Erklärung mit einem zusätzlichen Prompt anfordern musste. "
   ]
  }
 ],
 "metadata": {
  "language_info": {
   "name": "python"
  }
 },
 "nbformat": 4,
 "nbformat_minor": 2
}
