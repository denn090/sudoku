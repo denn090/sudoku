{
 "cells": [
  {
   "cell_type": "markdown",
   "metadata": {},
   "source": [
    "# Chatgpt4o"
   ]
  },
  {
   "cell_type": "markdown",
   "metadata": {},
   "source": [
    "## Prompt :\n",
    "Write a Python program to sort a list of numbers using a sorting algorithm of your choice. Explain which algorithm you used and why\n"
   ]
  },
  {
   "cell_type": "markdown",
   "metadata": {},
   "source": [
    "## Output"
   ]
  },
  {
   "cell_type": "code",
   "execution_count": 2,
   "metadata": {},
   "outputs": [],
   "source": [
    "def merge_sort(arr):\n",
    "    if len(arr) <= 1:\n",
    "        return arr\n",
    "\n",
    "    # Split the array into two halves\n",
    "    mid = len(arr) // 2\n",
    "    left_half = merge_sort(arr[:mid])\n",
    "    right_half = merge_sort(arr[mid:])\n",
    "\n",
    "    # Merge the sorted halves\n",
    "    return merge(left_half, right_half)\n",
    "\n",
    "def merge(left, right):\n",
    "    sorted_list = []\n",
    "    i = j = 0\n",
    "\n",
    "    # Compare elements from both halves and add the smaller one\n",
    "    while i < len(left) and j < len(right):\n",
    "        if left[i] < right[j]:\n",
    "            sorted_list.append(left[i])\n",
    "            i += 1\n",
    "        else:\n",
    "            sorted_list.append(right[j])\n",
    "            j += 1\n",
    "\n",
    "    # Add remaining elements\n",
    "    sorted_list.extend(left[i:])\n",
    "    sorted_list.extend(right[j:])\n",
    "    \n",
    "    return sorted_list"
   ]
  },
  {
   "cell_type": "code",
   "execution_count": 3,
   "metadata": {},
   "outputs": [
    {
     "name": "stdout",
     "output_type": "stream",
     "text": [
      "Original List: [38, 27, 43, 3, 9, 82, 10]\n",
      "Sorted List: [3, 9, 10, 27, 38, 43, 82]\n"
     ]
    }
   ],
   "source": [
    "numbers = [38, 27, 43, 3, 9, 82, 10]\n",
    "print(\"Original List:\", numbers)\n",
    "sorted_numbers = merge_sort(numbers)\n",
    "print(\"Sorted List:\", sorted_numbers)"
   ]
  },
  {
   "cell_type": "markdown",
   "metadata": {},
   "source": [
    "Why I Chose Merge Sort\n",
    "\n",
    "- Efficiency: Merge Sort has a guaranteed time complexity of O(n log n), making it efficient for large datasets.\n",
    "\n",
    "- Stable Sort: It preserves the order of equal elements, which is useful in many scenarios.\n",
    "\n",
    "- Divide & Conquer: It breaks the problem into smaller subproblems, making it conceptually elegant and easy to implement recursively.\n"
   ]
  },
  {
   "cell_type": "markdown",
   "metadata": {},
   "source": [
    "## Code-Analyse"
   ]
  },
  {
   "cell_type": "markdown",
   "metadata": {},
   "source": [
    "Der folgende Code implementiert den Merge-Sort-Algorithmus, einen rekursiven, stabilen Sortieralgorithmus, der auf dem \"Teile-und-herrsche\"-Prinzip basiert. Merge Sort zerlegt die Liste in kleinere Teilmengen, sortiert diese rekursiv und fügt sie anschließend in der richtigen Reihenfolge wieder zusammen. Die Zeitkomplexität beträgt O(n log n)."
   ]
  },
  {
   "cell_type": "markdown",
   "metadata": {},
   "source": [
    "## Tests"
   ]
  },
  {
   "cell_type": "markdown",
   "metadata": {},
   "source": [
    "### 1. leere Liste"
   ]
  },
  {
   "cell_type": "code",
   "execution_count": 4,
   "metadata": {},
   "outputs": [],
   "source": [
    "def test_empty_list(): \n",
    "    assert merge_sort([]) == []\n",
    "test_empty_list()"
   ]
  },
  {
   "cell_type": "markdown",
   "metadata": {},
   "source": [
    "### 2. einzelnes Element"
   ]
  },
  {
   "cell_type": "code",
   "execution_count": 7,
   "metadata": {},
   "outputs": [],
   "source": [
    "def test_single_element():\n",
    "    assert merge_sort([42]) == [42]\n",
    "test_single_element()"
   ]
  },
  {
   "cell_type": "markdown",
   "metadata": {},
   "source": [
    "### 3. Liste mit gleichen Elementen"
   ]
  },
  {
   "cell_type": "code",
   "execution_count": 8,
   "metadata": {},
   "outputs": [],
   "source": [
    "def test_duplicate_elements():\n",
    "    assert merge_sort([7, 7, 7, 7, 7]) == [7, 7, 7, 7, 7]\n",
    "test_duplicate_elements()"
   ]
  },
  {
   "cell_type": "markdown",
   "metadata": {},
   "source": [
    "### 4. negative Zahlen"
   ]
  },
  {
   "cell_type": "code",
   "execution_count": 9,
   "metadata": {},
   "outputs": [],
   "source": [
    "def test_negative_elements():\n",
    "    assert merge_sort([-5, -1, -3, -2, -4]) == [-5, -4, -3, -2, -1]\n",
    "test_negative_elements()"
   ]
  },
  {
   "cell_type": "markdown",
   "metadata": {},
   "source": [
    "### 5. positive und negative Zahlen"
   ]
  },
  {
   "cell_type": "code",
   "execution_count": 10,
   "metadata": {},
   "outputs": [],
   "source": [
    "def test_positive_and_negative_elements():\n",
    "    assert merge_sort([-3, 10, -1, 0, 2]) == [-3, -1, 0, 2, 10]\n",
    "test_positive_and_negative_elements()"
   ]
  },
  {
   "cell_type": "markdown",
   "metadata": {},
   "source": [
    "### 6.sehr große Zahlen "
   ]
  },
  {
   "cell_type": "code",
   "execution_count": 11,
   "metadata": {},
   "outputs": [],
   "source": [
    "def test_large_numbers():\n",
    "    assert merge_sort([1000000, -1000000, 0, 999999, -999999]) == [-1000000, -999999, 0, 999999, 1000000]\n",
    "test_large_numbers()\n"
   ]
  },
  {
   "cell_type": "markdown",
   "metadata": {},
   "source": [
    "### 7. vorsortierte Liste"
   ]
  },
  {
   "cell_type": "code",
   "execution_count": 12,
   "metadata": {},
   "outputs": [],
   "source": [
    "def test_presorted_list():\n",
    "    assert merge_sort([1, 2, 3, 4, 5, 6, 7, 8, 9]) == [1, 2, 3, 4, 5, 6, 7, 8, 9]\n",
    "test_presorted_list()\n"
   ]
  },
  {
   "cell_type": "markdown",
   "metadata": {},
   "source": [
    "### 8. absteigende Reihenfolge"
   ]
  },
  {
   "cell_type": "code",
   "execution_count": 13,
   "metadata": {},
   "outputs": [],
   "source": [
    "def test_descending_list():\n",
    "    assert merge_sort([9, 8, 7, 6, 5, 4, 3, 2, 1]) == [1, 2, 3, 4, 5, 6, 7, 8, 9]\n",
    "test_descending_list()"
   ]
  }
 ],
 "metadata": {
  "kernelspec": {
   "display_name": "Python 3",
   "language": "python",
   "name": "python3"
  },
  "language_info": {
   "codemirror_mode": {
    "name": "ipython",
    "version": 3
   },
   "file_extension": ".py",
   "mimetype": "text/x-python",
   "name": "python",
   "nbconvert_exporter": "python",
   "pygments_lexer": "ipython3",
   "version": "3.11.9"
  }
 },
 "nbformat": 4,
 "nbformat_minor": 2
}
