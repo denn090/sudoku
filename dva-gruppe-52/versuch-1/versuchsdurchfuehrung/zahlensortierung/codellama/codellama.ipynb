{
 "cells": [
  {
   "cell_type": "markdown",
   "metadata": {},
   "source": [
    "# CodeLlama 13b"
   ]
  },
  {
   "cell_type": "markdown",
   "metadata": {},
   "source": [
    "## Prompt :\n",
    "Write a Python program to sort a list of numbers using a sorting algorithm of your choice. Explain which algorithm you used and why\n"
   ]
  },
  {
   "cell_type": "markdown",
   "metadata": {},
   "source": [
    "## Output"
   ]
  },
  {
   "cell_type": "code",
   "execution_count": 3,
   "metadata": {},
   "outputs": [],
   "source": [
    "def sort(my_list):\n",
    "    # Insertion sort algorithm\n",
    "    for i in range(1, len(my_list)):\n",
    "        key = my_list[i]\n",
    "        j = i - 1\n",
    "        while j >= 0 and my_list[j] > key:\n",
    "            my_list[j + 1] = my_list[j]\n",
    "            j -= 1\n",
    "        my_list[j + 1] = key\n",
    "    return my_list"
   ]
  },
  {
   "cell_type": "code",
   "execution_count": 3,
   "metadata": {},
   "outputs": [
    {
     "name": "stdout",
     "output_type": "stream",
     "text": [
      "[1, 2, 3, 4, 5, 6, 8]\n"
     ]
    }
   ],
   "source": [
    "my_list = [5, 2, 8, 3, 1, 6, 4]\n",
    "sorted_list = sort(my_list)\n",
    "print(sorted_list) # Output: [1, 2, 3, 4, 5, 6, 8]"
   ]
  },
  {
   "cell_type": "markdown",
   "metadata": {},
   "source": [
    "This program uses the insertion sort algorithm to sort the list of numbers. The sort function takes a single argument, which is the list of numbers that you want to sort. It then sorts the list and returns it as a new list that is sorted in ascending order. You can use this function by calling it with the name of the list you want to sort as an argument, like this: sorted_list = sort(my_list). This will return a new list that is sorted in ascending order.\n",
    "\n",
    "You can also use other sorting algorithms like quicksort, mergesort, and heapsort by changing the implementation of the sort function accordingly."
   ]
  },
  {
   "cell_type": "markdown",
   "metadata": {},
   "source": [
    "## Code-Analyse"
   ]
  },
  {
   "cell_type": "markdown",
   "metadata": {},
   "source": [
    "Der Code implementiert den Insertion-Sort-Algorithmus zur Sortierung einer Liste in aufsteigender Reihenfolge. Dabei wird das aktuelle Element (key) an die richtige Stelle innerhalb des bereits sortierten Teils der Liste eingefügt. Dies geschieht durch Vergleiche und Verschiebungen, bis das passende Einfügen möglich ist. Der Algorithmus hat eine Zeitkomplexität von O(n²) im Worst-Case und ist besonders effizient für kleine oder fast sortierte Listen."
   ]
  },
  {
   "cell_type": "markdown",
   "metadata": {},
   "source": [
    "## Tests"
   ]
  },
  {
   "cell_type": "markdown",
   "metadata": {},
   "source": [
    "### 1. leere Liste"
   ]
  },
  {
   "cell_type": "code",
   "execution_count": 4,
   "metadata": {},
   "outputs": [],
   "source": [
    "def test_empty_list(): \n",
    "    assert sort([]) == []\n",
    "\n",
    "test_empty_list()"
   ]
  },
  {
   "cell_type": "markdown",
   "metadata": {},
   "source": [
    "### 2. einzelnes Element"
   ]
  },
  {
   "cell_type": "code",
   "execution_count": 5,
   "metadata": {},
   "outputs": [],
   "source": [
    "def test_single_element():\n",
    "    assert sort([42]) == [42]\n",
    "\n",
    "test_single_element()"
   ]
  },
  {
   "cell_type": "markdown",
   "metadata": {},
   "source": [
    "### 3. Liste mit gleichen Elementen"
   ]
  },
  {
   "cell_type": "code",
   "execution_count": 6,
   "metadata": {},
   "outputs": [],
   "source": [
    "def test_duplicate_elements():\n",
    "    assert sort([7, 7, 7, 7, 7]) == [7, 7, 7, 7, 7]\n",
    "\n",
    "test_duplicate_elements()"
   ]
  },
  {
   "cell_type": "markdown",
   "metadata": {},
   "source": [
    "### 4. negative Zahlen"
   ]
  },
  {
   "cell_type": "code",
   "execution_count": 8,
   "metadata": {},
   "outputs": [],
   "source": [
    "def test_negative_elements():\n",
    "    assert sort([-5, -1, -3, -2, -4]) == [-5, -4, -3, -2, -1]\n",
    "\n",
    "test_negative_elements()"
   ]
  },
  {
   "cell_type": "markdown",
   "metadata": {},
   "source": [
    "### 5. positive und negative Zahlen"
   ]
  },
  {
   "cell_type": "code",
   "execution_count": 7,
   "metadata": {},
   "outputs": [],
   "source": [
    "def test_positive_and_negative_elements():\n",
    "    assert sort([-3, 10, -1, 0, 2]) == [-3, -1, 0, 2, 10]\n",
    "\n",
    "test_positive_and_negative_elements()"
   ]
  },
  {
   "cell_type": "markdown",
   "metadata": {},
   "source": [
    "### 6.sehr große Zahlen "
   ]
  },
  {
   "cell_type": "code",
   "execution_count": 8,
   "metadata": {},
   "outputs": [],
   "source": [
    "def test_large_numbers():\n",
    "    assert sort([1000000, -1000000, 0, 999999, -999999]) == [-1000000, -999999, 0, 999999, 1000000]\n",
    "\n",
    "test_large_numbers()"
   ]
  },
  {
   "cell_type": "markdown",
   "metadata": {},
   "source": [
    "### 7. vorsortierte Liste"
   ]
  },
  {
   "cell_type": "code",
   "execution_count": 9,
   "metadata": {},
   "outputs": [],
   "source": [
    "def test_presorted_list():\n",
    "    assert sort([1, 2, 3, 4, 5, 6, 7, 8, 9]) == [1, 2, 3, 4, 5, 6, 7, 8, 9]\n",
    "\n",
    "test_presorted_list()"
   ]
  },
  {
   "cell_type": "markdown",
   "metadata": {},
   "source": [
    "### 8. absteigende Reihenfolge"
   ]
  },
  {
   "cell_type": "code",
   "execution_count": null,
   "metadata": {},
   "outputs": [],
   "source": [
    "def test_presorted_list():\n",
    "    assert sort([1, 2, 3, 4, 5, 6, 7, 8, 9]) == [1, 2, 3, 4, 5, 6, 7, 8, 9]\n",
    "\n",
    "test_presorted_list()"
   ]
  }
 ],
 "metadata": {
  "kernelspec": {
   "display_name": "Python 3",
   "language": "python",
   "name": "python3"
  },
  "language_info": {
   "codemirror_mode": {
    "name": "ipython",
    "version": 3
   },
   "file_extension": ".py",
   "mimetype": "text/x-python",
   "name": "python",
   "nbconvert_exporter": "python",
   "pygments_lexer": "ipython3",
   "version": "3.12.7"
  }
 },
 "nbformat": 4,
 "nbformat_minor": 2
}
