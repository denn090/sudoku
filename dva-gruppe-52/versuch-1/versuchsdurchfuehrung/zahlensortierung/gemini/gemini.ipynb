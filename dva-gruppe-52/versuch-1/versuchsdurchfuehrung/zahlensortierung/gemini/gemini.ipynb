{
 "cells": [
  {
   "cell_type": "markdown",
   "metadata": {},
   "source": [
    "### Prompt:\n",
    "Write a Python program to sort a list of numbers using a sorting algorithm of your choice. Explain which algorithm you used and why\n",
    "\n",
    "### Gemini Antwort:"
   ]
  },
  {
   "cell_type": "markdown",
   "metadata": {},
   "source": [
    "#### Funktionen "
   ]
  },
  {
   "cell_type": "code",
   "execution_count": 1,
   "metadata": {},
   "outputs": [],
   "source": [
    "def sort_numbers(numbers):\n",
    "  \"\"\"Sorts a list of numbers using the merge sort algorithm.\n",
    "\n",
    "  Args:\n",
    "    numbers: A list of numbers to be sorted.\n",
    "\n",
    "  Returns:\n",
    "    A new list containing the sorted numbers.\n",
    "  \"\"\"\n",
    "\n",
    "  if len(numbers) <= 1:\n",
    "    return numbers\n",
    "\n",
    "  mid = len(numbers) // 2\n",
    "  left = numbers[:mid]\n",
    "  right = numbers[mid:]\n",
    "\n",
    "  left_sorted = sort_numbers(left)\n",
    "  right_sorted = sort_numbers(right)\n",
    "\n",
    "  return merge(left_sorted, right_sorted)\n",
    "\n",
    "\n",
    "def merge(left, right):\n",
    "  \"\"\"Merges two sorted lists into a single sorted list.\n",
    "\n",
    "  Args:\n",
    "    left: A sorted list.\n",
    "    right: A sorted list.\n",
    "\n",
    "  Returns:\n",
    "    A new sorted list containing elements from both input lists.\n",
    "  \"\"\"\n",
    "\n",
    "  merged = []\n",
    "  left_index = 0\n",
    "  right_index = 0\n",
    "\n",
    "  while left_index < len(left) and right_index < len(right):\n",
    "    if left[left_index] <= right[right_index]:\n",
    "      merged.append(left[left_index])\n",
    "      left_index += 1\n",
    "    else:\n",
    "      merged.append(right[right_index])\n",
    "      right_index += 1\n",
    "\n",
    "  merged.extend(left[left_index:])\n",
    "  merged.extend(right[right_index:])\n",
    "\n",
    "  return merged"
   ]
  },
  {
   "cell_type": "markdown",
   "metadata": {},
   "source": [
    "#### Usage"
   ]
  },
  {
   "cell_type": "code",
   "execution_count": 2,
   "metadata": {},
   "outputs": [
    {
     "name": "stdout",
     "output_type": "stream",
     "text": [
      "Original list: [5, 2, 9, 1, 5, 6]\n",
      "Sorted list: [1, 2, 5, 5, 6, 9]\n",
      "Original list: [10, 3, 8, 1, 6, 2, 7, 4, 9, 5]\n",
      "Sorted list: [1, 2, 3, 4, 5, 6, 7, 8, 9, 10]\n"
     ]
    }
   ],
   "source": [
    "numbers = [5, 2, 9, 1, 5, 6]\n",
    "sorted_numbers = sort_numbers(numbers)\n",
    "print(f\"Original list: {numbers}\")\n",
    "print(f\"Sorted list: {sorted_numbers}\")\n",
    "\n",
    "numbers2 = [10, 3, 8, 1, 6, 2, 7, 4, 9, 5]\n",
    "sorted_numbers2 = sort_numbers(numbers2)\n",
    "print(f\"Original list: {numbers2}\")\n",
    "print(f\"Sorted list: {sorted_numbers2}\")"
   ]
  },
  {
   "cell_type": "markdown",
   "metadata": {},
   "source": [
    "### Code-Analyse\n",
    "\n",
    "#### Merge-Sort-Algorithmus\n",
    "\n",
    "- Merge-Sort ist ein effizienter Sortieralgorithmus, der nach dem Prinzip \"Teile und Herrsche\" (Divide and Conquer) arbeitet.\n",
    "- Teilen (Divide): Die unsortierte Liste wird rekursiv in immer kleinere Teillisten zerlegt, bis jede Teilliste nur noch ein Element enthält. \n",
    "- Herrschen (Conquer): Die einzelnen Teillisten werden dann paarweise in sortierter Reihenfolge wieder zusammengeführt (gemischt, \"merge\"). \n",
    "- Zusammenführen (Merge): Beim Zusammenführen zweier sortierter Teillisten werden die jeweils ersten Elemente der beiden Listen verglichen. \n",
    "    - Das kleinere Element wird in die neue, zusammengeführte Liste eingefügt. \n",
    "    - Dieser Vorgang wird so lange wiederholt, bis alle Elemente beider Teillisten in der neuen Liste enthalten sind.\n",
    "\n",
    "#### Warum Merge-Sort?\n",
    "- Effizienz: Merge-Sort hat eine Zeitkomplexität von `O(n log n)` in allen Fällen (bester, durchschnittlicher und schlechtester Fall). \n",
    "    - Das macht ihn zu einem sehr effizienten Sortieralgorithmus, besonders für große Datenmengen.\n",
    "- Stabilität: Merge-Sort ist ein stabiler Sortieralgorithmus. \n",
    "    - Das bedeutet, dass Elemente mit gleichen Werten ihre relative Reihenfolge in der sortierten Ausgabe beibehalten. \n",
    "    - Dies kann in bestimmten Anwendungen wichtig sein.\n",
    "- Teile und Herrsche: Merge-Sort folgt dem Paradigma \"Teile und Herrsche\". \n",
    "    - Er teilt die Eingabeliste rekursiv in kleinere Teillisten, sortiert diese und führt sie dann wieder zusammen. \n",
    "    - Dieser Ansatz ist im Allgemeinen effizient und für viele Sortieraufgaben gut geeignet.\n",
    "- Vorhersagbare Leistung: Da die Worst-Case-Zeitkomplexität mit der Average- und Best-Case-Zeitkomplexität identisch ist, ist die Ausführungszeit sehr gut vorhersagbar."
   ]
  },
  {
   "cell_type": "markdown",
   "metadata": {},
   "source": [
    "#### Tests\n",
    "\n",
    "1. leere Liste"
   ]
  },
  {
   "cell_type": "code",
   "execution_count": 3,
   "metadata": {},
   "outputs": [],
   "source": [
    "def test_empty_list():\n",
    "    assert sort_numbers([]) == []\n",
    "\n",
    "test_empty_list()"
   ]
  },
  {
   "cell_type": "markdown",
   "metadata": {},
   "source": [
    "2. einzelnes Element"
   ]
  },
  {
   "cell_type": "code",
   "execution_count": 6,
   "metadata": {},
   "outputs": [],
   "source": [
    "def test_single_element():\n",
    "    assert sort_numbers([-10]) == [-10]\n",
    "\n",
    "test_single_element()"
   ]
  },
  {
   "cell_type": "markdown",
   "metadata": {},
   "source": [
    "3. Liste mit gleichen Elementen"
   ]
  },
  {
   "cell_type": "code",
   "execution_count": 7,
   "metadata": {},
   "outputs": [],
   "source": [
    "def test_duplicate_elements():\n",
    "    assert sort_numbers([0, 0, 0, 0]) == [0, 0, 0, 0]\n",
    "\n",
    "test_duplicate_elements()"
   ]
  },
  {
   "cell_type": "markdown",
   "metadata": {},
   "source": [
    "4. negative Zahlen"
   ]
  },
  {
   "cell_type": "code",
   "execution_count": 8,
   "metadata": {},
   "outputs": [],
   "source": [
    "def test_negative_elements():\n",
    "    assert sort_numbers([-12, -2, -8, -5]) == [-12, -8, -5, -2]\n",
    "\n",
    "test_negative_elements()"
   ]
  },
  {
   "cell_type": "markdown",
   "metadata": {},
   "source": [
    "5. positive und negative Zahlen"
   ]
  },
  {
   "cell_type": "code",
   "execution_count": 9,
   "metadata": {},
   "outputs": [],
   "source": [
    "def test_positive_and_negative_elements():\n",
    "    assert sort_numbers([5, -2, 0, 1, -8]) == [-8, -2, 0, 1, 5]\n",
    "\n",
    "test_positive_and_negative_elements()"
   ]
  },
  {
   "cell_type": "markdown",
   "metadata": {},
   "source": [
    "6. sehr große Zahlen"
   ]
  },
  {
   "cell_type": "code",
   "execution_count": 12,
   "metadata": {},
   "outputs": [],
   "source": [
    "def test_large_numbers():\n",
    "    assert sort_numbers([2147483647, -2147483648, 1, -1]) == [-2147483648, -1, 1, 2147483647]\n",
    "\n",
    "test_large_numbers()"
   ]
  },
  {
   "cell_type": "markdown",
   "metadata": {},
   "source": [
    "7. vorsortierte Liste"
   ]
  },
  {
   "cell_type": "code",
   "execution_count": 13,
   "metadata": {},
   "outputs": [],
   "source": [
    "def test_presorted_list():\n",
    "    assert sort_numbers([-5, -4, 0, 3, 7]) == [-5, -4, 0, 3, 7]\n",
    "\n",
    "test_presorted_list()"
   ]
  },
  {
   "cell_type": "markdown",
   "metadata": {},
   "source": [
    "8. absteigende Reihenfolge\n"
   ]
  },
  {
   "cell_type": "code",
   "execution_count": 14,
   "metadata": {},
   "outputs": [],
   "source": [
    "def test_descending_order():\n",
    "    assert sort_numbers([10, 9, 8, 7, 6, 5, 4, 3, 2, 1, 0]) == [0, 1, 2, 3, 4, 5, 6, 7, 8, 9, 10]\n",
    "\n",
    "test_descending_order()"
   ]
  },
  {
   "cell_type": "markdown",
   "metadata": {},
   "source": [
    "9. gemischte Zahlen mit Duplikaten"
   ]
  },
  {
   "cell_type": "code",
   "execution_count": 15,
   "metadata": {},
   "outputs": [],
   "source": [
    "def test_mixed_duplicates():\n",
    "  assert sort_numbers([3, 1, -2, 3, 0, -2, 5, 1]) == [-2, -2, 0, 1, 1, 3, 3, 5]\n",
    "\n",
    "test_mixed_duplicates()"
   ]
  },
  {
   "cell_type": "markdown",
   "metadata": {},
   "source": [
    "Jede der verschiedenen Untersuchungen funktionierte wie erwartet und alle Tests liefen durch. "
   ]
  }
 ],
 "metadata": {
  "kernelspec": {
   "display_name": "Python 3",
   "language": "python",
   "name": "python3"
  },
  "language_info": {
   "codemirror_mode": {
    "name": "ipython",
    "version": 3
   },
   "file_extension": ".py",
   "mimetype": "text/x-python",
   "name": "python",
   "nbconvert_exporter": "python",
   "pygments_lexer": "ipython3",
   "version": "3.13.1"
  }
 },
 "nbformat": 4,
 "nbformat_minor": 2
}
