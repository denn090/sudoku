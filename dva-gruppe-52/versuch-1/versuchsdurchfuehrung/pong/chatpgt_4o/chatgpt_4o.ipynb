{
 "cells": [
  {
   "cell_type": "markdown",
   "metadata": {},
   "source": [
    "# Chatgpt4o"
   ]
  },
  {
   "cell_type": "markdown",
   "metadata": {},
   "source": [
    "## Prompt\n",
    "\n",
    "Create a Pong game in Python that runs inside a Jupyter Notebook.\n",
    "The game should be single-player:\n",
    "– The player controls a paddle using the up and down arrow keys\n",
    "– The opponent (computer) should move logically, e.g. by tracking the ball with some delay\n",
    "– Include a score display for both the player and the opponent\n",
    "– Use pygame or tkinter for drawing and animation, ensuring compatibility with Jupyter Notebooks\n",
    "– The game should run entirely within a single notebook cell\n",
    "– Use pygame.display.set_mode((width, height)) and set a window caption using pygame.display.set_caption()\n",
    "– If needed, adapt the setup for Jupyter compatibility (e.g. use %matplotlib, pygame.display.init(), or similar)\n",
    "– Make sure the game runs in a loop and can be exited with the ESC key or after a certain score is reached\n"
   ]
  },
  {
   "cell_type": "markdown",
   "metadata": {},
   "source": [
    "## Code-Analyse"
   ]
  },
  {
   "cell_type": "markdown",
   "metadata": {},
   "source": [
    "Chatgpt4o nutzt die pygame - Bibiliothek, diese muss erst installiert werden"
   ]
  },
  {
   "cell_type": "code",
   "execution_count": 2,
   "metadata": {},
   "outputs": [
    {
     "name": "stdout",
     "output_type": "stream",
     "text": [
      "Requirement already satisfied: pygame in c:\\users\\seyit\\appdata\\local\\packages\\pythonsoftwarefoundation.python.3.11_qbz5n2kfra8p0\\localcache\\local-packages\\python311\\site-packages (2.6.1)\n"
     ]
    },
    {
     "name": "stderr",
     "output_type": "stream",
     "text": [
      "\n",
      "[notice] A new release of pip is available: 23.3.1 -> 25.0.1\n",
      "[notice] To update, run: C:\\Users\\Seyit\\AppData\\Local\\Microsoft\\WindowsApps\\PythonSoftwareFoundation.Python.3.11_qbz5n2kfra8p0\\python.exe -m pip install --upgrade pip\n"
     ]
    }
   ],
   "source": [
    "! pip install pygame"
   ]
  },
  {
   "cell_type": "code",
   "execution_count": 1,
   "metadata": {},
   "outputs": [
    {
     "name": "stdout",
     "output_type": "stream",
     "text": [
      "pygame 2.6.1 (SDL 2.28.4, Python 3.11.9)\n",
      "Hello from the pygame community. https://www.pygame.org/contribute.html\n"
     ]
    }
   ],
   "source": [
    "import pygame\n",
    "import random\n",
    "import time\n",
    "from IPython.display import display, clear_output\n",
    "\n",
    "# Initialize pygame\n",
    "pygame.init()\n",
    "\n",
    "# Set game display size and caption\n",
    "WIDTH, HEIGHT = 600, 400\n",
    "FPS = 60\n",
    "win = pygame.display.set_mode((WIDTH, HEIGHT))\n",
    "pygame.display.set_caption(\"Pong Game\")\n",
    "\n",
    "# Colors\n",
    "WHITE = (255, 255, 255)\n",
    "BLACK = (0, 0, 0)\n",
    "GREEN = (0, 255, 0)\n",
    "\n",
    "# Paddle class\n",
    "class Paddle:\n",
    "    def __init__(self, x, y):\n",
    "        self.rect = pygame.Rect(x, y, 15, 75)  # Paddle size (15px width, 75px height)\n",
    "        self.speed = 6  # Paddle speed\n",
    "    \n",
    "    def move(self, direction):\n",
    "        if direction == 'up' and self.rect.top > 0:\n",
    "            self.rect.y -= self.speed\n",
    "        elif direction == 'down' and self.rect.bottom < HEIGHT:\n",
    "            self.rect.y += self.speed\n",
    "\n",
    "    def draw(self, win):\n",
    "        pygame.draw.rect(win, WHITE, self.rect)\n",
    "\n",
    "# Ball class\n",
    "class Ball:\n",
    "    def __init__(self):\n",
    "        self.rect = pygame.Rect(WIDTH // 2 - 7, HEIGHT // 2 - 7, 15, 15)\n",
    "        self.dx = random.choice([-5, 5])\n",
    "        self.dy = random.choice([-5, 5])\n",
    "\n",
    "    def move(self):\n",
    "        self.rect.x += self.dx\n",
    "        self.rect.y += self.dy\n",
    "\n",
    "    def draw(self, win):\n",
    "        pygame.draw.ellipse(win, WHITE, self.rect)\n",
    "\n",
    "    def reset(self):\n",
    "        self.rect.center = (WIDTH // 2, HEIGHT // 2)\n",
    "        self.dx = random.choice([-5, 5])\n",
    "        self.dy = random.choice([-5, 5])\n",
    "\n",
    "# Function to draw game elements\n",
    "def draw_game(player, opponent, ball, player_score, opponent_score):\n",
    "    win.fill(BLACK)\n",
    "    \n",
    "    # Draw paddles and ball\n",
    "    player.draw(win)\n",
    "    opponent.draw(win)\n",
    "    ball.draw(win)\n",
    "    \n",
    "    # Draw the net (line in the middle)\n",
    "    pygame.draw.line(win, WHITE, (WIDTH // 2, 0), (WIDTH // 2, HEIGHT), 2)\n",
    "    \n",
    "    # Display scores\n",
    "    font = pygame.font.SysFont('Arial', 30)\n",
    "    score_text = font.render(f\"{player_score} - {opponent_score}\", True, WHITE)\n",
    "    win.blit(score_text, (WIDTH // 2 - score_text.get_width() // 2, 20))\n",
    "\n",
    "    pygame.display.update()\n",
    "\n",
    "# Function to move the opponent paddle (simple AI)\n",
    "def move_opponent(opponent, ball):\n",
    "    # Basic AI that follows the ball with a delay\n",
    "    if opponent.rect.centery < ball.rect.centery:\n",
    "        opponent.move('down')\n",
    "    elif opponent.rect.centery > ball.rect.centery:\n",
    "        opponent.move('up')\n",
    "\n",
    "# Game loop\n",
    "def pong_game():\n",
    "    player = Paddle(10, HEIGHT // 2 - 35)  # Player on the left side\n",
    "    opponent = Paddle(WIDTH - 25, HEIGHT // 2 - 35)  # Opponent on the right side\n",
    "    ball = Ball()\n",
    "    \n",
    "    player_score = 0\n",
    "    opponent_score = 0\n",
    "    running = True\n",
    "    \n",
    "    clock = pygame.time.Clock()\n",
    "\n",
    "    while running:\n",
    "        for event in pygame.event.get():\n",
    "            if event.type == pygame.QUIT:\n",
    "                running = False\n",
    "            if event.type == pygame.KEYDOWN:\n",
    "                if event.key == pygame.K_ESCAPE:\n",
    "                    running = False\n",
    "                elif event.key == pygame.K_UP:\n",
    "                    player.move('up')\n",
    "                elif event.key == pygame.K_DOWN:\n",
    "                    player.move('down')\n",
    "\n",
    "        ball.move()\n",
    "\n",
    "        # Ball collision with top and bottom\n",
    "        if ball.rect.top <= 0 or ball.rect.bottom >= HEIGHT:\n",
    "            ball.dy *= -1\n",
    "        \n",
    "        # Ball collision with paddles\n",
    "        if ball.rect.colliderect(player.rect) or ball.rect.colliderect(opponent.rect):\n",
    "            ball.dx *= -1\n",
    "        \n",
    "        # Scoring system\n",
    "        if ball.rect.left <= 0:\n",
    "            opponent_score += 1\n",
    "            ball.reset()\n",
    "        elif ball.rect.right >= WIDTH:\n",
    "            player_score += 1\n",
    "            ball.reset()\n",
    "\n",
    "        # Move opponent (AI)\n",
    "        move_opponent(opponent, ball)\n",
    "\n",
    "        # Draw everything\n",
    "        draw_game(player, opponent, ball, player_score, opponent_score)\n",
    "\n",
    "        # If a player reaches a score of 5, end the game\n",
    "        if player_score == 5 or opponent_score == 5:\n",
    "            font = pygame.font.SysFont('Arial', 50)\n",
    "            winner_text = font.render(f\"{'Player' if player_score == 5 else 'Opponent'} Wins!\", True, GREEN)\n",
    "            win.blit(winner_text, (WIDTH // 2 - winner_text.get_width() // 2, HEIGHT // 2 - 50))\n",
    "            pygame.display.update()\n",
    "            time.sleep(2)\n",
    "            running = False\n",
    "        \n",
    "        clock.tick(FPS)\n",
    "\n",
    "# Start the game\n",
    "pong_game()\n",
    "\n",
    "# Quit pygame\n",
    "pygame.quit()\n"
   ]
  },
  {
   "cell_type": "markdown",
   "metadata": {},
   "source": [
    "Der Code implementiert ein Single-Player-Pong-Spiel mit pygame. Hier sind die wichtigsten Punkte der Funktionsweise:\n",
    "\n",
    "Initialisierung:\n",
    "Mit pygame.init() werden alle benötigten pygame-Module initialisiert. Das Spielfenster wird auf eine feste Größe von 600x400 Pixeln gesetzt, und der Fenstertitel wird auf \"Pong Game\" gesetzt.\n",
    "\n",
    "Definition von Spielobjekten:\n",
    "Es werden Konstanten für Farben (Weiß für Objekte, Schwarz für den Hintergrund und Grün für den Gewinnertext) sowie die Grundwerte für die Paddles und den Ball definiert. Die Paddle-Klasse enthält ein Paddle-Objekt mit einer festen Größe und Bewegungsgeschwindigkeit. Die Ball-Klasse definiert den Ball mit einer Startposition in der Mitte des Fensters und zufälligen Bewegungsrichtungen (dx und dy).\n",
    "\n",
    "Spielschleife:\n",
    "Die Spielschleife läuft kontinuierlich und strebt eine Aktualisierungsrate von 60 FPS an. In dieser Schleife werden folgende Aktionen ausgeführt:\n",
    "\n",
    "Ereignisbehandlung:\n",
    "Die Ereignisbehandlung überprüft, ob das Fenster geschlossen oder die ESC-Taste gedrückt wurde, um das Spiel zu beenden. Außerdem wird die Eingabe der Pfeiltasten überwacht, um das Spieler-Paddle nach oben oder unten zu bewegen.\n",
    "\n",
    "Spielereingaben:\n",
    "Mit der Abfrage von Tasteneingaben (pygame.KEYDOWN) wird das Spieler-Paddle nach oben oder unten bewegt. Die move()-Methode stellt sicher, dass das Paddle innerhalb der Fenstergrenzen bleibt.\n",
    "\n",
    "Gegner-KI:\n",
    "Das Gegner-Paddle bewegt sich in Richtung des Balls. Die einfache KI folgt der y-Position des Balls mit einer Verzögerung, was bedeutet, dass das Gegner-Paddle nicht sofort auf jede Bewegung des Balls reagiert, sondern eine kleine Verzögerung simuliert wird.\n",
    "\n",
    "Ballbewegung und Kollision:\n",
    "Der Ball wird in jedem Schritt der Schleife gemäß seiner Bewegungsrichtung (dx und dy) bewegt. Bei Kollision mit den oberen oder unteren Fensterrändern wird die Richtung des Balls auf der y-Achse umgekehrt. Bei Berührung eines Paddles (Spieler oder Gegner) wird die horizontale Bewegungsrichtung des Balls umgekehrt.\n",
    "\n",
    "Punktestand:\n",
    "Wenn der Ball die linke oder rechte Seite des Fensters überschreitet, wird der Punktestand aktualisiert und der Ball wird auf seine Ausgangsposition in der Mitte des Fensters zurückgesetzt. Das Spiel endet, wenn ein Spieler eine Punktzahl von 5 erreicht hat.\n",
    "\n",
    "Anzeige:\n",
    "Der Hintergrund wird in jeder Schleifeniteration neu gezeichnet, die Paddles, der Ball und der aktuelle Punktestand werden angezeigt. Der Punktestand wird oben im Fenster angezeigt und regelmäßig aktualisiert.\n",
    "\n",
    "Spielende:\n",
    "Wenn ein Spieler eine Punktzahl von 5 erreicht, wird ein Text \"Player Wins!\" oder \"Opponent Wins!\" in der Mitte des Fensters angezeigt. Das Spiel wartet für 2 Sekunden, bevor es beendet wird.\n",
    "\n",
    "Spielabschluss:\n",
    "Nach dem Ende des Spiels wird das pygame-Fenster geschlossen und alle pygame-Ressourcen freigegeben, indem pygame.quit() aufgerufen wird."
   ]
  },
  {
   "cell_type": "markdown",
   "metadata": {},
   "source": [
    "## Output"
   ]
  },
  {
   "cell_type": "code",
   "execution_count": 6,
   "metadata": {},
   "outputs": [
    {
     "data": {
      "image/png": "[encoded data removed]",
      "text/plain": [
       "<IPython.core.display.Image object>"
      ]
     },
     "metadata": {},
     "output_type": "display_data"
    },
    {
     "data": {
      "image/png": "[encoded data removed]",
      "text/plain": [
       "<IPython.core.display.Image object>"
      ]
     },
     "metadata": {},
     "output_type": "display_data"
    }
   ],
   "source": [
    "from IPython.display import Image, display\n",
    "\n",
    "display(Image(filename='./pictures_pong_chatgpt4o/pong_game.png'))\n",
    "display(Image(filename='./pictures_pong_chatgpt4o/pong_game_result.png'))"
   ]
  },
  {
   "cell_type": "markdown",
   "metadata": {},
   "source": [
    "Das erstellte Spiel funktioniert einwandfrei und bietet eine reibungslose Single-Player-Erfahrung. Die Steuerung erfolgt über die Pfeiltasten nach oben und unten, um das Spieler-Paddle zu bewegen. Der Punktestand wird korrekt angezeigt und bei jedem Punktgewinn entsprechend erhöht. Die KI des Gegners ist jedoch relativ einfach und reagiert recht schnell, sodass es eine gewisse Herausforderung darstellt, den Ball am Gegner vorbeizubringen. Das Spiel endet, sobald ein Spieler eine Punktzahl von 5 erreicht hat, und das Ergebnis wird für einige Sekunden angezeigt, bevor das Spiel beendet wird."
   ]
  }
 ],
 "metadata": {
  "kernelspec": {
   "display_name": "Python 3",
   "language": "python",
   "name": "python3"
  },
  "language_info": {
   "codemirror_mode": {
    "name": "ipython",
    "version": 3
   },
   "file_extension": ".py",
   "mimetype": "text/x-python",
   "name": "python",
   "nbconvert_exporter": "python",
   "pygments_lexer": "ipython3",
   "version": "3.11.9"
  }
 },
 "nbformat": 4,
 "nbformat_minor": 2
}
