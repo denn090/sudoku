{
 "cells": [
  {
   "cell_type": "markdown",
   "metadata": {},
   "source": [
    "# CodeLlama 13b"
   ]
  },
  {
   "cell_type": "markdown",
   "metadata": {},
   "source": [
    "## Prompt\n",
    "\n",
    "Create a Pong game in Python that runs inside a Jupyter Notebook.\n",
    "The game should be single-player:\n",
    "– The player controls a paddle using the up and down arrow keys\n",
    "– The opponent (computer) should move logically, e.g. by tracking the ball with some delay\n",
    "– Include a score display for both the player and the opponent\n",
    "– Use pygame or tkinter for drawing and animation, ensuring compatibility with Jupyter Notebooks\n",
    "– The game should run entirely within a single notebook cell\n",
    "– Use pygame.display.set_mode((width, height)) and set a window caption using pygame.display.set_caption()\n",
    "– If needed, adapt the setup for Jupyter compatibility (e.g. use %matplotlib, pygame.display.init(), or similar)\n",
    "– Make sure the game runs in a loop and can be exited with the ESC key or after a certain score is reached\n"
   ]
  },
  {
   "cell_type": "markdown",
   "metadata": {},
   "source": [
    "## Code-Analyse"
   ]
  },
  {
   "cell_type": "markdown",
   "metadata": {},
   "source": [
    "CodeLlama nutzt die pygame - Bibiliothek, diese muss erst installiert werden"
   ]
  },
  {
   "cell_type": "code",
   "execution_count": 3,
   "metadata": {},
   "outputs": [
    {
     "name": "stdout",
     "output_type": "stream",
     "text": [
      "Collecting pygame\n",
      "  Downloading pygame-2.6.1-cp312-cp312-macosx_11_0_arm64.whl.metadata (12 kB)\n",
      "Downloading pygame-2.6.1-cp312-cp312-macosx_11_0_arm64.whl (12.4 MB)\n",
      "\u001b[2K   \u001b[90m━━━━━━━━━━━━━━━━━━━━━━━━━━━━━━━━━━━━━━━━\u001b[0m \u001b[32m12.4/12.4 MB\u001b[0m \u001b[31m12.7 MB/s\u001b[0m eta \u001b[36m0:00:00\u001b[0ma \u001b[36m0:00:01\u001b[0m\n",
      "\u001b[?25hInstalling collected packages: pygame\n",
      "Successfully installed pygame-2.6.1\n"
     ]
    }
   ],
   "source": [
    "! pip install pygame"
   ]
  },
  {
   "cell_type": "code",
   "execution_count": 5,
   "metadata": {},
   "outputs": [
    {
     "ename": "TypeError",
     "evalue": "center argument must be a pair of numbers",
     "output_type": "error",
     "traceback": [
      "\u001b[31m---------------------------------------------------------------------------\u001b[39m",
      "\u001b[31mTypeError\u001b[39m                                 Traceback (most recent call last)",
      "\u001b[36mCell\u001b[39m\u001b[36m \u001b[39m\u001b[32mIn[5]\u001b[39m\u001b[32m, line 86\u001b[39m\n\u001b[32m     84\u001b[39m pygame.draw.rect(screen, RED, player_paddle)\n\u001b[32m     85\u001b[39m pygame.draw.rect(screen, GREEN, opponent_paddle)\n\u001b[32m---> \u001b[39m\u001b[32m86\u001b[39m \u001b[43mpygame\u001b[49m\u001b[43m.\u001b[49m\u001b[43mdraw\u001b[49m\u001b[43m.\u001b[49m\u001b[43mcircle\u001b[49m\u001b[43m(\u001b[49m\u001b[43mscreen\u001b[49m\u001b[43m,\u001b[49m\u001b[43m \u001b[49m\u001b[43mWHITE\u001b[49m\u001b[43m,\u001b[49m\u001b[43m \u001b[49m\u001b[43mball\u001b[49m\u001b[43m.\u001b[49m\u001b[43mx\u001b[49m\u001b[43m,\u001b[49m\u001b[43m \u001b[49m\u001b[43mball\u001b[49m\u001b[43m.\u001b[49m\u001b[43my\u001b[49m\u001b[43m,\u001b[49m\u001b[43m \u001b[49m\u001b[32;43m10\u001b[39;49m\u001b[43m)\u001b[49m\n\u001b[32m     87\u001b[39m pygame.display.flip()\n\u001b[32m     89\u001b[39m \u001b[38;5;66;03m# Check for exit conditions\u001b[39;00m\n",
      "\u001b[31mTypeError\u001b[39m: center argument must be a pair of numbers"
     ]
    }
   ],
   "source": [
    "import pygame\n",
    "from pygame.locals import *\n",
    "\n",
    "# Setup the display and caption\n",
    "pygame.display.set_mode((640, 480))\n",
    "pygame.display.set_caption(\"Pong\")\n",
    "\n",
    "# Define some colors\n",
    "BLACK = (0, 0, 0)\n",
    "WHITE = (255, 255, 255)\n",
    "RED = (255, 0, 0)\n",
    "GREEN = (0, 255, 0)\n",
    "BLUE = (0, 0, 255)\n",
    "\n",
    "# Setup the screen size and caption\n",
    "screen_width = 640\n",
    "screen_height = 480\n",
    "screen_caption = \"Pong\"\n",
    "\n",
    "# Initialize pygame\n",
    "pygame.init()\n",
    "\n",
    "# Setup the screen display\n",
    "screen = pygame.display.set_mode((screen_width, screen_height))\n",
    "pygame.display.set_caption(screen_caption)\n",
    "\n",
    "# Define some constants for the game\n",
    "player_score = 0\n",
    "opponent_score = 0\n",
    "ball_speed = 1\n",
    "\n",
    "# Setup the player paddle and opponent paddle\n",
    "player_paddle = pygame.Rect(10, screen_height // 2 - 50, 10, 100)\n",
    "opponent_paddle = pygame.Rect(screen_width - 20, screen_height // 2 - 50, 10, 100)\n",
    "\n",
    "# Initialize the ball position and speed\n",
    "ball = pygame.Rect(screen_width // 2, screen_height // 2, 10, 10)\n",
    "ball_speed = (1, 1)\n",
    "\n",
    "# Main game loop\n",
    "while True:\n",
    "    # Handle events\n",
    "    for event in pygame.event.get():\n",
    "        if event.type == QUIT:\n",
    "            pygame.quit()\n",
    "            sys.exit()\n",
    "    \n",
    "    # Move the player paddle based on keyboard input\n",
    "    key = pygame.key.get_pressed()\n",
    "    if key[K_UP]:\n",
    "        player_paddle.y -= 5\n",
    "    elif key[K_DOWN]:\n",
    "        player_paddle.y += 5\n",
    "    \n",
    "    # Move the opponent paddle based on a simple AI algorithm\n",
    "    opponent_paddle.y = ball.y - (opponent_paddle.height // 2) + (player_paddle.height // 2)\n",
    "    \n",
    "    # Update the ball position and speed\n",
    "    ball.x += ball_speed[0]\n",
    "    ball.y += ball_speed[1]\n",
    "    \n",
    "    # Check for collisions with the paddles\n",
    "    if pygame.Rect.colliderect(ball, player_paddle):\n",
    "        ball_speed = (ball_speed[0], -ball_speed[1])\n",
    "    elif pygame.Rect.colliderect(ball, opponent_paddle):\n",
    "        ball_speed = (-ball_speed[0], -ball_speed[1])\n",
    "    \n",
    "    # Check for collisions with the edges of the screen\n",
    "    if ball.x < 0:\n",
    "        player_score += 1\n",
    "        ball = pygame.Rect(screen_width // 2, screen_height // 2, 10, 10)\n",
    "        ball_speed = (1, 1)\n",
    "    elif ball.x > screen_width - 1:\n",
    "        opponent_score += 1\n",
    "        ball = pygame.Rect(screen_width // 2, screen_height // 2, 10, 10)\n",
    "        ball_speed = (-1, -1)\n",
    "    elif ball.y < 0:\n",
    "        ball_speed = (ball_speed[0], -ball_speed[1])\n",
    "    elif ball.y > screen_height - 1:\n",
    "        ball_speed = (ball_speed[0], -ball_speed[1])\n",
    "    \n",
    "    # Draw the scene\n",
    "    screen.fill(BLACK)\n",
    "    pygame.draw.rect(screen, RED, player_paddle)\n",
    "    pygame.draw.rect(screen, GREEN, opponent_paddle)\n",
    "    pygame.draw.circle(screen, WHITE, ball.x, ball.y, 10)\n",
    "    pygame.display.flip()\n",
    "    \n",
    "    # Check for exit conditions\n",
    "    if player_score >= 5 or opponent_score >= 5:\n",
    "        break\n"
   ]
  },
  {
   "cell_type": "markdown",
   "metadata": {},
   "source": [
    "CodeLlama kennt das Spiel Pong, kann es aber keinen funktionsfähigen Code erstellen\n",
    "\n"
   ]
  },
  {
   "cell_type": "markdown",
   "metadata": {},
   "source": [
    "### Fehlerbehebung"
   ]
  },
  {
   "cell_type": "code",
   "execution_count": 1,
   "metadata": {},
   "outputs": [
    {
     "name": "stdout",
     "output_type": "stream",
     "text": [
      "pygame 2.6.1 (SDL 2.28.4, Python 3.12.7)\n",
      "Hello from the pygame community. https://www.pygame.org/contribute.html\n"
     ]
    }
   ],
   "source": [
    "import pygame\n",
    "from pygame.locals import *\n",
    "\n",
    "# Setup the display and caption\n",
    "pygame.display.set_mode((640, 480))\n",
    "pygame.display.set_caption(\"Pong\")\n",
    "\n",
    "# Define some colors\n",
    "BLACK = (0, 0, 0)\n",
    "WHITE = (255, 255, 255)\n",
    "RED = (255, 0, 0)\n",
    "GREEN = (0, 255, 0)\n",
    "BLUE = (0, 0, 255)\n",
    "\n",
    "# Setup the screen size and caption\n",
    "screen_width = 640\n",
    "screen_height = 480\n",
    "screen_caption = \"Pong\"\n",
    "\n",
    "# Initialize pygame\n",
    "pygame.init()\n",
    "\n",
    "# Setup the screen display\n",
    "screen = pygame.display.set_mode((screen_width, screen_height))\n",
    "pygame.display.set_caption(screen_caption)\n",
    "\n",
    "# Define some constants for the game\n",
    "player_score = 0\n",
    "opponent_score = 0\n",
    "ball_speed = 1\n",
    "\n",
    "# Setup the player paddle and opponent paddle\n",
    "player_paddle = pygame.Rect(10, screen_height // 2 - 50, 10, 100)\n",
    "opponent_paddle = pygame.Rect(screen_width - 20, screen_height // 2 - 50, 10, 100)\n",
    "\n",
    "# Initialize the ball position and speed\n",
    "ball = pygame.Rect(screen_width // 2, screen_height // 2, 10, 10)\n",
    "ball_speed = (1, 1)\n",
    "\n",
    "# Main game loop\n",
    "while True:\n",
    "    # Handle events\n",
    "    for event in pygame.event.get():\n",
    "        if event.type == QUIT:\n",
    "            pygame.quit()\n",
    "            sys.exit()\n",
    "    \n",
    "    # Move the player paddle based on keyboard input\n",
    "    key = pygame.key.get_pressed()\n",
    "    if key[K_UP]:\n",
    "        player_paddle.y -= 5\n",
    "    elif key[K_DOWN]:\n",
    "        player_paddle.y += 5\n",
    "    \n",
    "    # Move the opponent paddle based on a simple AI algorithm\n",
    "    opponent_paddle.y = ball.y - (opponent_paddle.height // 2) + (player_paddle.height // 2)\n",
    "    \n",
    "    # Update the ball position and speed\n",
    "    ball.x += ball_speed[0]\n",
    "    ball.y += ball_speed[1]\n",
    "    \n",
    "    # Check for collisions with the paddles\n",
    "    if pygame.Rect.colliderect(ball, player_paddle):\n",
    "        ball_speed = (ball_speed[0], -ball_speed[1])\n",
    "    elif pygame.Rect.colliderect(ball, opponent_paddle):\n",
    "        ball_speed = (-ball_speed[0], -ball_speed[1])\n",
    "    \n",
    "    # Check for collisions with the edges of the screen\n",
    "    if ball.x < 0:\n",
    "        player_score += 1\n",
    "        ball = pygame.Rect(screen_width // 2, screen_height // 2, 10, 10)\n",
    "        ball_speed = (1, 1)\n",
    "    elif ball.x > screen_width - 1:\n",
    "        opponent_score += 1\n",
    "        ball = pygame.Rect(screen_width // 2, screen_height // 2, 10, 10)\n",
    "        ball_speed = (-1, -1)\n",
    "    elif ball.y < 0:\n",
    "        ball_speed = (ball_speed[0], -ball_speed[1])\n",
    "    elif ball.y > screen_height - 1:\n",
    "        ball_speed = (ball_speed[0], -ball_speed[1])\n",
    "    \n",
    "    # Draw the scene\n",
    "    screen.fill(BLACK)\n",
    "    pygame.draw.rect(screen, RED, player_paddle)\n",
    "    pygame.draw.rect(screen, GREEN, opponent_paddle)\n",
    "    pygame.draw.circle(screen, WHITE, (ball.x, ball.y), 10)\n",
    "    pygame.display.flip()\n",
    "    \n",
    "    # Check for exit conditions\n",
    "    if player_score >= 5 or opponent_score >= 5:\n",
    "        break\n"
   ]
  },
  {
   "cell_type": "markdown",
   "metadata": {},
   "source": [
    "```python\n",
    "    pygame.draw.circle(screen, WHITE, ball.x, ball.y, 10)\n",
    "```\n",
    "\n",
    "ändern zu \n",
    "\n",
    "```python\n",
    "    pygame.draw.circle(screen, WHITE, (ball.x, ball.y), 10)\n",
    "```\n",
    "\n",
    "Der Code ist nun lauffähig, die Geschwindigkeit des Balles ist aber zufällig wodurch das Spiel unspielbar ist"
   ]
  },
  {
   "cell_type": "markdown",
   "metadata": {},
   "source": [
    "### Analyse\n",
    "\n",
    "Es initialisiert ein Spielfenster (640x480), definiert Farben und erstellt zwei Schläger sowie einen Ball. Der Spieler steuert seinen Schläger mit den Pfeiltasten, während der Gegner-Schläger automatisch der Ballposition folgt. Der Ball bewegt sich mit einer festen Geschwindigkeit und prallt an Wänden und Schlägern ab. Bei einem Punktgewinn (wenn der Ball eine Seite verlässt) wird die Position zurückgesetzt. Das Spiel endet, wenn ein Spieler 5 Punkte erreicht. Allerdings gibt es Fehler, z. B. fehlendes import sys und eine fehlerhafte Ballkollisionsberechnung."
   ]
  },
  {
   "cell_type": "markdown",
   "metadata": {},
   "source": [
    "## Output\n",
    "\n",
    "Der Output lässt sich leider nicht vernünftig testen, da der Ball durch die randomisierte Geschwindigkeit unberechenbar ist"
   ]
  }
 ],
 "metadata": {
  "kernelspec": {
   "display_name": "Python 3",
   "language": "python",
   "name": "python3"
  },
  "language_info": {
   "codemirror_mode": {
    "name": "ipython",
    "version": 3
   },
   "file_extension": ".py",
   "mimetype": "text/x-python",
   "name": "python",
   "nbconvert_exporter": "python",
   "pygments_lexer": "ipython3",
   "version": "3.12.7"
  }
 },
 "nbformat": 4,
 "nbformat_minor": 2
}
