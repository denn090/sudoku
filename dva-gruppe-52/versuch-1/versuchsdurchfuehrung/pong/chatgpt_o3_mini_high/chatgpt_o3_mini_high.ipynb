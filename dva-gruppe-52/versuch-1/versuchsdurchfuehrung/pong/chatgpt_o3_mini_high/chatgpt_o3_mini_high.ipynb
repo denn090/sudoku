{
 "cells": [
  {
   "cell_type": "markdown",
   "metadata": {},
   "source": [
    "# ChatGPT o3 mini high"
   ]
  },
  {
   "cell_type": "markdown",
   "metadata": {},
   "source": [
    "# Prompt\n",
    "\n",
    "Create a Pong game in Python that runs inside a Jupyter Notebook.\n",
    "The game should be single-player:\n",
    "– The player controls a paddle using the up and down arrow keys\n",
    "– The opponent (computer) should move logically, e.g. by tracking the ball with some delay\n",
    "– Include a score display for both the player and the opponent\n",
    "– Use pygame or tkinter for drawing and animation, ensuring compatibility with Jupyter Notebooks\n",
    "– The game should run entirely within a single notebook cell\n",
    "– Use pygame.display.set_mode((width, height)) and set a window caption using pygame.display.set_caption()\n",
    "– If needed, adapt the setup for Jupyter compatibility (e.g. use %matplotlib, pygame.display.init(), or similar)\n",
    "– Make sure the game runs in a loop and can be exited with the ESC key or after a certain score is reached"
   ]
  },
  {
   "cell_type": "markdown",
   "metadata": {},
   "source": [
    "## Code-Analyse"
   ]
  },
  {
   "cell_type": "code",
   "execution_count": null,
   "metadata": {},
   "outputs": [],
   "source": [
    "! pip install pygame"
   ]
  },
  {
   "cell_type": "code",
   "execution_count": 8,
   "metadata": {},
   "outputs": [
    {
     "ename": "SystemExit",
     "evalue": "",
     "output_type": "error",
     "traceback": [
      "An exception has occurred, use %tb to see the full traceback.\n",
      "\u001b[31mSystemExit\u001b[39m\n"
     ]
    }
   ],
   "source": [
    "import pygame\n",
    "import sys\n",
    "\n",
    "# Initialize pygame\n",
    "pygame.init()\n",
    "\n",
    "# Window settings\n",
    "width, height = 800, 600\n",
    "screen = pygame.display.set_mode((width, height))\n",
    "pygame.display.set_caption(\"Single Player Pong\")\n",
    "\n",
    "# Colors and fonts\n",
    "WHITE = (255, 255, 255)\n",
    "BLACK = (0, 0, 0)\n",
    "font = pygame.font.Font(None, 36)\n",
    "\n",
    "# Game objects dimensions\n",
    "paddle_width, paddle_height = 10, 100\n",
    "ball_radius = 10\n",
    "\n",
    "# Player paddle position\n",
    "player_x = 20\n",
    "player_y = height // 2 - paddle_height // 2\n",
    "\n",
    "# Opponent paddle position\n",
    "opponent_x = width - 20 - paddle_width\n",
    "opponent_y = height // 2 - paddle_height // 2\n",
    "\n",
    "# Ball position and velocity\n",
    "ball_x = width // 2\n",
    "ball_y = height // 2\n",
    "ball_dx = 5\n",
    "ball_dy = 5\n",
    "\n",
    "# Scores and winning condition\n",
    "player_score = 0\n",
    "opponent_score = 0\n",
    "max_score = 10\n",
    "\n",
    "clock = pygame.time.Clock()\n",
    "running = True\n",
    "\n",
    "while running:\n",
    "    clock.tick(60)  # Limit to 60 FPS\n",
    "    \n",
    "    # Event handling\n",
    "    for event in pygame.event.get():\n",
    "        if event.type == pygame.QUIT:\n",
    "            running = False\n",
    "        elif event.type == pygame.KEYDOWN:\n",
    "            if event.key == pygame.K_ESCAPE:\n",
    "                running = False\n",
    "    \n",
    "    # Player paddle movement (arrow keys)\n",
    "    keys = pygame.key.get_pressed()\n",
    "    if keys[pygame.K_UP]:\n",
    "        player_y -= 7\n",
    "    if keys[pygame.K_DOWN]:\n",
    "        player_y += 7\n",
    "    # Keep player paddle within window\n",
    "    player_y = max(0, min(height - paddle_height, player_y))\n",
    "    \n",
    "    # Opponent paddle logic: simple AI tracking the ball with a fixed speed\n",
    "    if opponent_y + paddle_height/2 < ball_y:\n",
    "        opponent_y += 5\n",
    "    elif opponent_y + paddle_height/2 > ball_y:\n",
    "        opponent_y -= 5\n",
    "    opponent_y = max(0, min(height - paddle_height, opponent_y))\n",
    "    \n",
    "    # Move the ball\n",
    "    ball_x += ball_dx\n",
    "    ball_y += ball_dy\n",
    "    \n",
    "    # Ball collision with top and bottom boundaries\n",
    "    if ball_y - ball_radius <= 0 or ball_y + ball_radius >= height:\n",
    "        ball_dy = -ball_dy\n",
    "    \n",
    "    # Ball collision with player paddle\n",
    "    if (ball_x - ball_radius <= player_x + paddle_width and\n",
    "        player_y < ball_y < player_y + paddle_height):\n",
    "        ball_dx = -ball_dx\n",
    "    \n",
    "    # Ball collision with opponent paddle\n",
    "    if (ball_x + ball_radius >= opponent_x and\n",
    "        opponent_y < ball_y < opponent_y + paddle_height):\n",
    "        ball_dx = -ball_dx\n",
    "    \n",
    "    # Scoring: ball goes off left or right side\n",
    "    if ball_x < 0:\n",
    "        opponent_score += 1\n",
    "        ball_x, ball_y = width // 2, height // 2\n",
    "        ball_dx, ball_dy = 5, 5\n",
    "    elif ball_x > width:\n",
    "        player_score += 1\n",
    "        ball_x, ball_y = width // 2, height // 2\n",
    "        ball_dx, ball_dy = -5, 5\n",
    "    \n",
    "    # Clear screen and redraw objects\n",
    "    screen.fill(BLACK)\n",
    "    pygame.draw.rect(screen, WHITE, (player_x, player_y, paddle_width, paddle_height))\n",
    "    pygame.draw.rect(screen, WHITE, (opponent_x, opponent_y, paddle_width, paddle_height))\n",
    "    pygame.draw.circle(screen, WHITE, (ball_x, ball_y), ball_radius)\n",
    "    \n",
    "    # Draw score\n",
    "    score_text = font.render(f\"{player_score} : {opponent_score}\", True, WHITE)\n",
    "    screen.blit(score_text, (width//2 - score_text.get_width()//2, 20))\n",
    "    \n",
    "    pygame.display.flip()\n",
    "    \n",
    "    # End game when max score is reached\n",
    "    if player_score >= max_score or opponent_score >= max_score:\n",
    "        running = False\n",
    "\n",
    "# Display final score and game over message\n",
    "screen.fill(BLACK)\n",
    "final_text = font.render(\"Game Over\", True, WHITE)\n",
    "score_text = font.render(f\"Final Score: {player_score} : {opponent_score}\", True, WHITE)\n",
    "screen.blit(final_text, (width//2 - final_text.get_width()//2, height//2 - final_text.get_height()))\n",
    "screen.blit(score_text, (width//2 - score_text.get_width()//2, height//2 + score_text.get_height()))\n",
    "pygame.display.flip()\n",
    "pygame.time.wait(3000)\n",
    "\n",
    "pygame.quit()\n",
    "sys.exit()\n"
   ]
  },
  {
   "cell_type": "markdown",
   "metadata": {},
   "source": [
    "Der Code implementiert ein Single-Player-Pong-Spiel mit pygame. Hier die wichtigsten Punkte:\n",
    "\n",
    "- **Initialisierung:**  \n",
    "  `pygame.init()` startet alle pygame-Module. Das Fenster wird mit fester Breite (800) und Höhe (600) erstellt, und der Fenstertitel wird gesetzt.\n",
    "\n",
    "- **Definition von Spielobjekten:**  \n",
    "  Es werden Konstanten für Farben, Schlägerabmessungen (Breite, Höhe) und den Ballradius definiert. Die Positionen des Spieler- und Gegnerpaddles sowie die Startposition und Geschwindigkeiten (dx, dy) des Balls werden festgelegt.\n",
    "\n",
    "- **Spielschleife:**  \n",
    "  In einer while-Schleife, die 60 FPS anstrebt, werden folgende Aktionen ausgeführt:  \n",
    "  - **Ereignisbehandlung:**  \n",
    "    Ereignisse wie Fenster schließen oder Drücken der ESC-Taste führen zum Beenden des Spiels.\n",
    "  - **Spielereingaben:**  \n",
    "    Mit `pygame.key.get_pressed()` werden die Pfeiltasten abgefragt, um das Spielerpaddle vertikal zu bewegen. Dabei wird sichergestellt, dass das Paddle im Fenster bleibt.\n",
    "  - **Gegner-KI:**  \n",
    "    Das Gegnerpaddle bewegt sich in Richtung des Balles, basierend auf der aktuellen Ballposition, jedoch mit fester Geschwindigkeit, um eine gewisse Verzögerung zu simulieren.\n",
    "  - **Ballbewegung und Kollision:**  \n",
    "    Der Ball wird entsprechend seiner Geschwindigkeiten verschoben. Bei Kollision mit oberen und unteren Fenstergrenzen kehrt sich die vertikale Richtung um. Bei Berührung der Paddles ändert sich die horizontale Bewegungsrichtung.\n",
    "  - **Punktestand:**  \n",
    "    Wenn der Ball die linke oder rechte Seite verlässt, wird ein Punkt an den Gegner bzw. den Spieler vergeben, und der Ball wird in die Mitte zurückgesetzt.\n",
    "  - **Anzeige:**  \n",
    "    Der Hintergrund wird neu gezeichnet, Paddles und Ball werden gezeichnet und der aktuelle Punktestand wird oben angezeigt.\n",
    "  - **Spielende:**  \n",
    "    Die Schleife wird beendet, wenn ein Spieler den festgelegten Maximalpunktestand erreicht hat.\n",
    "\n",
    "- **Spielabschluss:**  \n",
    "  Nach Beendigung der Hauptschleife zeigt das Fenster einen \"Game Over\"-Bildschirm mit Endstand für einige Sekunden, bevor pygame beendet wird.\n",
    "\n",
    "Diese Struktur sorgt dafür, dass das Spiel kontinuierlich aktualisiert wird, Eingaben verarbeitet und grafisch dargestellt wird."
   ]
  },
  {
   "cell_type": "markdown",
   "metadata": {},
   "source": [
    "## Output"
   ]
  },
  {
   "cell_type": "code",
   "execution_count": 9,
   "metadata": {},
   "outputs": [
    {
     "data": {
      "image/png": "[encoded data removed]",
      "text/plain": [
       "<IPython.core.display.Image object>"
      ]
     },
     "metadata": {},
     "output_type": "display_data"
    },
    {
     "data": {
      "image/png": "[encoded data removed]",
      "text/plain": [
       "<IPython.core.display.Image object>"
      ]
     },
     "metadata": {},
     "output_type": "display_data"
    }
   ],
   "source": [
    "from IPython.display import Image, display\n",
    "\n",
    "display(Image(filename='./pictures/pong_game.png'))\n",
    "display(Image(filename='./pictures/pong_game_result.png'))"
   ]
  },
  {
   "cell_type": "markdown",
   "metadata": {},
   "source": [
    "Das generierte Spiel funktioniert fehlerfrei und kann als Single-Player genutzt werden.\n",
    "Die Pfeiltasten nach oben und unten werden zum Bewegen verwendet.\n",
    "Das Ergebnis wird ebenfalls richtig angezeigt und bei einem Punktgewinn erhöht.\n",
    "Die Schwierigkeit des COM ist jedoch extrem hoch und es ist unmöglich, ein Tor zu erzielen.\n",
    "Das Endergebnis wird nachdem man das Spiel mit mit \"x\" beendet hat kurz angezeigt. "
   ]
  }
 ],
 "metadata": {
  "kernelspec": {
   "display_name": "base",
   "language": "python",
   "name": "python3"
  },
  "language_info": {
   "codemirror_mode": {
    "name": "ipython",
    "version": 3
   },
   "file_extension": ".py",
   "mimetype": "text/x-python",
   "name": "python",
   "nbconvert_exporter": "python",
   "pygments_lexer": "ipython3",
   "version": "3.12.9"
  }
 },
 "nbformat": 4,
 "nbformat_minor": 2
}
