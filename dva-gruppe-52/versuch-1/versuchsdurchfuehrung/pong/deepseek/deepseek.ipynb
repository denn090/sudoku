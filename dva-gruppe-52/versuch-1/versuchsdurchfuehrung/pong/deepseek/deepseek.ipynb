{
 "cells": [
  {
   "attachments": {},
   "cell_type": "markdown",
   "metadata": {},
   "source": [
    "# DeepSeek"
   ]
  },
  {
   "attachments": {},
   "cell_type": "markdown",
   "metadata": {},
   "source": [
    "## Prompt\n",
    "\n",
    "Create a Pong game in Python that runs inside a Jupyter Notebook.\n",
    "The game should be single-player:\n",
    "– The player controls a paddle using the up and down arrow keys\n",
    "– The opponent (computer) should move logically, e.g. by tracking the ball with some delay\n",
    "– Include a score display for both the player and the opponent\n",
    "– Use pygame or tkinter for drawing and animation, ensuring compatibility with Jupyter Notebooks\n",
    "– The game should run entirely within a single notebook cell\n",
    "– Use pygame.display.set_mode((width, height)) and set a window caption using pygame.display.set_caption()\n",
    "– If needed, adapt the setup for Jupyter compatibility (e.g. use %matplotlib, pygame.display.init(), or similar)\n",
    "– Make sure the game runs in a loop and can be exited with the ESC key or after a certain score is reached"
   ]
  },
  {
   "attachments": {},
   "cell_type": "markdown",
   "metadata": {},
   "source": [
    "# Code-Analyse"
   ]
  },
  {
   "cell_type": "code",
   "execution_count": 2,
   "metadata": {},
   "outputs": [
    {
     "name": "stdout",
     "output_type": "stream",
     "text": [
      "Requirement already satisfied: pygame in /home/pyoneer/miniforge3/envs/py311/lib/python3.11/site-packages (2.6.1)\n"
     ]
    }
   ],
   "source": [
    "! pip install pygame"
   ]
  },
  {
   "cell_type": "code",
   "execution_count": 5,
   "metadata": {},
   "outputs": [],
   "source": [
    "import pygame\n",
    "import sys\n",
    "import random\n",
    "from IPython.display import display, clear_output\n",
    "import time\n",
    "\n",
    "# Initialize pygame\n",
    "pygame.init()\n",
    "\n",
    "# Game constants\n",
    "WIDTH, HEIGHT = 800, 600\n",
    "PADDLE_WIDTH, PADDLE_HEIGHT = 15, 100\n",
    "BALL_SIZE = 15\n",
    "PADDLE_SPEED = 8\n",
    "BALL_SPEED_X, BALL_SPEED_Y = 6, 6\n",
    "WHITE = (255, 255, 255)\n",
    "BLACK = (0, 0, 0)\n",
    "FPS = 60\n",
    "\n",
    "# Set up the display\n",
    "screen = pygame.display.set_mode((WIDTH, HEIGHT))\n",
    "pygame.display.set_caption(\"Pong Game\")\n",
    "\n",
    "# Game variables\n",
    "player_score = 0\n",
    "opponent_score = 0\n",
    "game_font = pygame.font.Font(None, 36)\n",
    "\n",
    "# Create game objects\n",
    "player_paddle = pygame.Rect(WIDTH - 20, HEIGHT // 2 - PADDLE_HEIGHT // 2, PADDLE_WIDTH, PADDLE_HEIGHT)\n",
    "opponent_paddle = pygame.Rect(10, HEIGHT // 2 - PADDLE_HEIGHT // 2, PADDLE_WIDTH, PADDLE_HEIGHT)\n",
    "ball = pygame.Rect(WIDTH // 2 - BALL_SIZE // 2, HEIGHT // 2 - BALL_SIZE // 2, BALL_SIZE, BALL_SIZE)\n",
    "\n",
    "# Ball movement\n",
    "ball_speed_x = BALL_SPEED_X * random.choice((1, -1))\n",
    "ball_speed_y = BALL_SPEED_Y * random.choice((1, -1))\n",
    "\n",
    "# Clock for controlling frame rate\n",
    "clock = pygame.time.Clock()\n",
    "\n",
    "def reset_ball():\n",
    "    global ball_speed_x, ball_speed_y\n",
    "    ball.center = (WIDTH // 2, HEIGHT // 2)\n",
    "    ball_speed_x = BALL_SPEED_X * random.choice((1, -1))\n",
    "    ball_speed_y = BALL_SPEED_Y * random.choice((1, -1))\n",
    "\n",
    "def draw_objects():\n",
    "    screen.fill(BLACK)\n",
    "    pygame.draw.rect(screen, WHITE, player_paddle)\n",
    "    pygame.draw.rect(screen, WHITE, opponent_paddle)\n",
    "    pygame.draw.ellipse(screen, WHITE, ball)\n",
    "    pygame.draw.aaline(screen, WHITE, (WIDTH // 2, 0), (WIDTH // 2, HEIGHT))\n",
    "    \n",
    "    player_text = game_font.render(f\"{player_score}\", False, WHITE)\n",
    "    opponent_text = game_font.render(f\"{opponent_score}\", False, WHITE)\n",
    "    screen.blit(player_text, (WIDTH // 2 + 20, 20))\n",
    "    screen.blit(opponent_text, (WIDTH // 2 - 40, 20))\n",
    "\n",
    "def move_paddles():\n",
    "    keys = pygame.key.get_pressed()\n",
    "    if keys[pygame.K_UP] and player_paddle.top > 0:\n",
    "        player_paddle.y -= PADDLE_SPEED\n",
    "    if keys[pygame.K_DOWN] and player_paddle.bottom < HEIGHT:\n",
    "        player_paddle.y += PADDLE_SPEED\n",
    "    \n",
    "    # Simple AI for opponent - follows the ball with some delay\n",
    "    if opponent_paddle.centery < ball.centery and opponent_paddle.bottom < HEIGHT:\n",
    "        opponent_paddle.y += PADDLE_SPEED * 0.7\n",
    "    if opponent_paddle.centery > ball.centery and opponent_paddle.top > 0:\n",
    "        opponent_paddle.y -= PADDLE_SPEED * 0.7\n",
    "\n",
    "def ball_movement():\n",
    "    global ball_speed_x, ball_speed_y, player_score, opponent_score\n",
    "    \n",
    "    ball.x += ball_speed_x\n",
    "    ball.y += ball_speed_y\n",
    "    \n",
    "    # Ball collision with top/bottom\n",
    "    if ball.top <= 0 or ball.bottom >= HEIGHT:\n",
    "        ball_speed_y *= -1\n",
    "    \n",
    "    # Ball collision with paddles\n",
    "    if ball.colliderect(player_paddle) or ball.colliderect(opponent_paddle):\n",
    "        ball_speed_x *= -1\n",
    "        # Add some randomness to the bounce\n",
    "        ball_speed_y *= random.uniform(0.9, 1.1)\n",
    "    \n",
    "    # Score points\n",
    "    if ball.left <= 0:\n",
    "        player_score += 1\n",
    "        reset_ball()\n",
    "    if ball.right >= WIDTH:\n",
    "        opponent_score += 1\n",
    "        reset_ball()\n",
    "\n",
    "# Main game loop\n",
    "running = True\n",
    "while running:\n",
    "    # Handle events\n",
    "    for event in pygame.event.get():\n",
    "        if event.type == pygame.QUIT:\n",
    "            running = False\n",
    "        if event.type == pygame.KEYDOWN:\n",
    "            if event.key == pygame.K_ESCAPE:\n",
    "                running = False\n",
    "    \n",
    "    # Game logic\n",
    "    move_paddles()\n",
    "    ball_movement()\n",
    "    \n",
    "    # Drawing\n",
    "    draw_objects()\n",
    "    pygame.display.flip()\n",
    "    \n",
    "    # Check for win condition\n",
    "    if player_score >= 5 or opponent_score >= 5:\n",
    "        winner = \"Player\" if player_score >= 5 else \"Computer\"\n",
    "        win_text = game_font.render(f\"{winner} wins! Final Score: {player_score}-{opponent_score}\", True, WHITE)\n",
    "        screen.blit(win_text, (WIDTH // 2 - 200, HEIGHT // 2))\n",
    "        pygame.display.flip()\n",
    "        time.sleep(3)\n",
    "        running = False\n",
    "    \n",
    "    # Control frame rate\n",
    "    clock.tick(FPS)\n",
    "\n",
    "pygame.quit()"
   ]
  },
  {
   "attachments": {},
   "cell_type": "markdown",
   "metadata": {},
   "source": [
    "Das implementierte Pong-Spiel zeigt eine klassische Umsetzung des Arcade-Klassikers in Python mit der Pygame-Bibliothek. Der Code ist speziell für die Ausführung in Jupyter Notebooks konzipiert, wobei durch die Initialisierung mit `pygame.init()` und das Setzen des Display-Modus die Grundvoraussetzungen für das Spiel geschaffen werden.\n",
    "\n",
    "Die Spiellogik basiert auf drei Hauptkomponenten: dem Spieler-Paddle, dem Computergegner und dem Ball. Dabei kommen Pygames Rect-Objekte zum Einsatz, die Kollisionserkennung und Positionierung vereinfachen. Besonders gelungen ist die Bewegungshandhabung - während das Spieler-Paddle direkt auf Tastendruck reagiert, zeigt die KI des Gegners eine angemessene Reaktionsverzögerung, die durch den Faktor 0.7 bei der Bewegungsgeschwindigkeit erreicht wird. Diese bewusste Schwächung des Computers macht das Spiel fair und spielbar.\n",
    "\n",
    "Die Physik des Balls implementiert eine grundlegende, aber effektive Simulation. Nach jedem Aufprall auf ein Paddle wird die horizontale Richtung umgekehrt, während zusätzlich eine leichte zufällige Abweichung der vertikalen Bewegung eingeführt wird. Dieser kleine Randomisierungsfaktor zwischen 0.9 und 1.1 verhindert monotone Ballbewegungen und erhöht den Spielspaß. Interessant ist die Entscheidung, den Ball bei jedem neuen Aufschlag in eine zufällige Richtung starten zu lassen, was dem originalen Pong-Spiel entspricht.\n",
    "\n",
    "Die Spielregeln folgen dem klassischen Konzept: Wer zuerst 5 Punkte erreicht, gewinnt das Spiel. Die Punktevergabe erfolgt, wenn der Ball die linke oder rechte Bildschirmseite passiert. Die Ausgabe des Gewinners erfolgt klar erkennbar in der Bildschirmmitte, bevor das Spiel nach einer kurzen Pause automatisch neu startet.\n",
    "\n",
    "Aus architektonischer Sicht ist der Code funktional organisiert, wobei die Hauptlogik in der Spielschleife liegt und spezifische Aufgaben wie das Zeichnen von Objekten oder die Ballbewegung in separate Funktionen ausgelagert wurden. Diese Struktur ermöglicht zwar eine gute Übersicht, könnte aber durch objektorientierte Ansätze noch verbessert werden.\n",
    "\n",
    "Für Jupyter Notebooks funktioniert die Implementierung zuverlässig, obwohl die Darstellung in einem separaten Fenster statt direkt im Notebook erfolgt. Dies ist eine praktikable Lösung, die Kompatibilitätsprobleme umgeht. Die Steuerung mit den Pfeiltasten ist intuitiv und reagiert unmittelbar auf Eingaben."
   ]
  },
  {
   "attachments": {},
   "cell_type": "markdown",
   "metadata": {},
   "source": [
    "# Output"
   ]
  },
  {
   "cell_type": "code",
   "execution_count": 2,
   "metadata": {},
   "outputs": [
    {
     "data": {
      "image/png": "[encoded data removed]",
      "text/plain": [
       "<IPython.core.display.Image object>"
      ]
     },
     "metadata": {},
     "output_type": "display_data"
    },
    {
     "data": {
      "image/png": "[encoded data removed]",
      "text/plain": [
       "<IPython.core.display.Image object>"
      ]
     },
     "metadata": {},
     "output_type": "display_data"
    }
   ],
   "source": [
    "from IPython.display import Image, display\n",
    "\n",
    "display(Image(filename='./pictures/pong_game.png'))\n",
    "display(Image(filename='./pictures/pong_game_result.png'))"
   ]
  },
  {
   "attachments": {},
   "cell_type": "markdown",
   "metadata": {},
   "source": [
    "Insgesamt handelt es sich um eine gelungene Umsetzung, die alle Kernelemente eines Pong-Spiels enthält und durch die bewussten Designentscheidungen bei KI-Schwierigkeit und Ballphysik einen angenehmen Spielablauf ermöglicht. Die Erweiterbarkeit ist gegeben, insbesondere was Sounds, visuelle Effekte oder zusätzliche Spielmodi betrifft."
   ]
  }
 ],
 "metadata": {
  "kernelspec": {
   "display_name": "py311",
   "language": "python",
   "name": "python3"
  },
  "language_info": {
   "codemirror_mode": {
    "name": "ipython",
    "version": 3
   },
   "file_extension": ".py",
   "mimetype": "text/x-python",
   "name": "python",
   "nbconvert_exporter": "python",
   "pygments_lexer": "ipython3",
   "version": "3.11.4"
  },
  "orig_nbformat": 4
 },
 "nbformat": 4,
 "nbformat_minor": 2
}
