{
 "cells": [
  {
   "cell_type": "markdown",
   "metadata": {},
   "source": [
    "### Prompt\n",
    "Create a Pong game in Python that runs inside a Jupyter Notebook.\n",
    "The game should be single-player:\n",
    "- The player controls a paddle using the up and down arrow keys\n",
    "- The opponent (computer) should move logically, e.g. by tracking the ball with some delay\n",
    "- Include a score display for both the player and the opponent\n",
    "- Use pygame or tkinter for drawing and animation, ensuring compatibility with Jupyter Notebooks\n",
    "- The game should run entirely within a single notebook cell\n",
    "- Use pygame.display.set_mode((width, height)) and set a window caption using pygame.display.set_caption()\n",
    "- If needed, adapt the setup for Jupyter compatibility (e.g. use %matplotlib, pygame.display.init(), or similar)\n",
    "- Make sure the game runs in a loop and can be exited with the ESC key or after a certain score is reached\n",
    "\n",
    "### Gemini Antwort:"
   ]
  },
  {
   "cell_type": "markdown",
   "metadata": {},
   "source": [
    "#### Imports\n",
    "\n",
    "`pip install pygame` wichitg zu Beginn"
   ]
  },
  {
   "cell_type": "code",
   "execution_count": 9,
   "metadata": {},
   "outputs": [],
   "source": [
    "import pygame\n",
    "import random\n",
    "import time\n",
    "# import matplotlib.pyplot as plt\n",
    "# import matplotlib.animation as animation\n",
    "# from IPython import display"
   ]
  },
  {
   "cell_type": "markdown",
   "metadata": {},
   "source": [
    "#### Funktionen"
   ]
  },
  {
   "cell_type": "code",
   "execution_count": 10,
   "metadata": {},
   "outputs": [],
   "source": [
    "def pong_game():\n",
    "    pygame.init()\n",
    "\n",
    "    width, height = 800, 600\n",
    "    screen = pygame.display.set_mode((width, height))\n",
    "    pygame.display.set_caption(\"Pong Game\")\n",
    "\n",
    "    white = (255, 255, 255)\n",
    "    black = (0, 0, 0)\n",
    "    red = (255, 0, 0)\n",
    "\n",
    "    paddle_width, paddle_height = 10, 100\n",
    "    ball_size = 10\n",
    "\n",
    "    player_paddle = pygame.Rect(50, height // 2 - paddle_height // 2, paddle_width, paddle_height)\n",
    "    opponent_paddle = pygame.Rect(width - 50 - paddle_width, height // 2 - paddle_height // 2, paddle_width, paddle_height)\n",
    "    ball = pygame.Rect(width // 2 - ball_size // 2, height // 2 - ball_size // 2, ball_size, ball_size)\n",
    "\n",
    "    ball_speed_x = 5 * random.choice((1, -1))\n",
    "    ball_speed_y = 5 * random.choice((1, -1))\n",
    "    player_speed = 7\n",
    "    opponent_speed = 6\n",
    "\n",
    "    player_score = 0\n",
    "    opponent_score = 0\n",
    "    font = pygame.font.Font(None, 36)\n",
    "\n",
    "    def draw_objects():\n",
    "        screen.fill(black)\n",
    "        pygame.draw.rect(screen, white, player_paddle)\n",
    "        pygame.draw.rect(screen, white, opponent_paddle)\n",
    "        pygame.draw.ellipse(screen, white, ball)\n",
    "        pygame.draw.aaline(screen, white, (width // 2, 0), (width // 2, height))\n",
    "\n",
    "        player_text = font.render(str(player_score), True, white)\n",
    "        opponent_text = font.render(str(opponent_score), True, white)\n",
    "        screen.blit(player_text, (width // 4, 10))\n",
    "        screen.blit(opponent_text, (3 * width // 4, 10))\n",
    "\n",
    "    def move_paddles():\n",
    "        keys = pygame.key.get_pressed()\n",
    "        if keys[pygame.K_UP] and player_paddle.top > 0:\n",
    "            player_paddle.y -= player_speed\n",
    "        if keys[pygame.K_DOWN] and player_paddle.bottom < height:\n",
    "            player_paddle.y += player_speed\n",
    "\n",
    "        if opponent_paddle.centery < ball.centery and opponent_paddle.bottom < height:\n",
    "            opponent_paddle.y += opponent_speed\n",
    "        if opponent_paddle.centery > ball.centery and opponent_paddle.top > 0:\n",
    "            opponent_paddle.y -= opponent_speed\n",
    "\n",
    "    def move_ball():\n",
    "        nonlocal ball_speed_x, ball_speed_y, player_score, opponent_score\n",
    "\n",
    "        ball.x += ball_speed_x\n",
    "        ball.y += ball_speed_y\n",
    "\n",
    "        if ball.top <= 0 or ball.bottom >= height:\n",
    "            ball_speed_y *= -1\n",
    "\n",
    "        if ball.left <= 0:\n",
    "            opponent_score += 1\n",
    "            reset_ball()\n",
    "        if ball.right >= width:\n",
    "            player_score += 1\n",
    "            reset_ball()\n",
    "\n",
    "        if ball.colliderect(player_paddle) or ball.colliderect(opponent_paddle):\n",
    "            ball_speed_x *= -1\n",
    "\n",
    "    def reset_ball():\n",
    "        nonlocal ball_speed_x, ball_speed_y\n",
    "        ball.center = (width // 2, height // 2)\n",
    "        ball_speed_x = 5 * random.choice((1, -1))\n",
    "        ball_speed_y = 5 * random.choice((1, -1))\n",
    "\n",
    "    running = True\n",
    "    while running:\n",
    "        for event in pygame.event.get():\n",
    "            if event.type == pygame.QUIT or (event.type == pygame.KEYDOWN and event.key == pygame.K_ESCAPE):\n",
    "                running = False\n",
    "\n",
    "        move_paddles()\n",
    "        move_ball()\n",
    "        draw_objects()\n",
    "\n",
    "        pygame.display.flip()\n",
    "        time.sleep(1/60)\n",
    "\n",
    "        if player_score >= 10 or opponent_score >= 10:\n",
    "            running = False\n",
    "    pygame.quit()\n",
    "    return player_score, opponent_score\n"
   ]
  },
  {
   "cell_type": "markdown",
   "metadata": {},
   "source": [
    "#### Output"
   ]
  },
  {
   "cell_type": "code",
   "execution_count": 12,
   "metadata": {},
   "outputs": [
    {
     "name": "stdout",
     "output_type": "stream",
     "text": [
      "Game Over! Player Score: 0, Opponent Score: 10\n"
     ]
    }
   ],
   "source": [
    "player_score, opponent_score = pong_game()\n",
    "print(f\"Game Over! Player Score: {player_score}, Opponent Score: {opponent_score}\")"
   ]
  },
  {
   "cell_type": "markdown",
   "metadata": {},
   "source": [
    "### Code-Analyse\n",
    "Ziel war es, ein einfaches Pong-Spiel zu entwickeln, das direkt innerhalb eines Jupyter Notebooks ausgeführt werden kann. Dabei lag der Fokus auf der grundlegenden Funktionalität und der Kompatibilität mit der Jupyter-Umgebung.\n",
    "\n",
    "![Pong Spiel Screenshot](pong_game_gemini.PNG)\n",
    "\n",
    "#### Spiel-Logik und Code-Struktur\n",
    "- Die grundlegende Spiel-Logik wurde implementiert, einschließlich der Bewegung der Schläger und des Balls. \n",
    "- Der Computergegner wurde so programmiert, dass er die vertikale Position des Balls verfolgt, um eine gewisse Herausforderung zu bieten. \n",
    "- Die Punktzahl wird erfasst und auf dem Bildschirm angezeigt. \n",
    "- Nach jedem Punktgewinn wird der Ball zurückgesetzt.\n",
    "- Der Code wurde in Funktionen wie `draw_objects`, `move_paddles` und `move_ball` organisiert, um eine klare Struktur zu schaffen. \n",
    "- Kommentare wurden hinzugefügt, um die einzelnen Abschnitte zu erläutern.\n",
    "\n",
    "#### Ball-Reset und visuelle Elemente\n",
    "- Die Funktion zum Zurücksetzen des Balls wurde implementiert, um die Position und Geschwindigkeit des Balls nach jedem Punktgewinn zu korrigieren. \n",
    "- Die Schriftart für die Punktanzeige wurde innerhalb der Spielfunktion initialisiert.\n",
    "- Um das Spiel visuell ansprechender zu gestalten, wurde eine Mittellinie (AALine) hinzugefügt. \n",
    "- Der Ball startet in einer zufälligen Richtung, um das Spiel unvorhersehbarer zu machen.\n",
    "\n",
    "#### Spielende und Ausgabe\n",
    "Das Spiel endet, wenn einer der Spieler 10 Punkte erreicht oder die ESC-Taste gedrückt wird. Die Endpunktzahl wird in der Konsole des Jupyter Notebooks ausgegeben.\n",
    "\n",
    "#### Zusammenfassende Bewertung des ersten Versuchs\n",
    "Dieser erste Versuch hat ein funktionsfähiges Pong-Spiel in einem Jupyter Notebook realisiert. Die grundlegende Spiel-Logik und die Integration in die Jupyter-Umgebung wurden erfolgreich umgesetzt. Es gibt jedoch Raum für Verbesserungen, insbesondere in Bezug auf die KI des Gegners und die allgemeine Spielmechanik."
   ]
  }
 ],
 "metadata": {
  "kernelspec": {
   "display_name": "Python 3",
   "language": "python",
   "name": "python3"
  },
  "language_info": {
   "codemirror_mode": {
    "name": "ipython",
    "version": 3
   },
   "file_extension": ".py",
   "mimetype": "text/x-python",
   "name": "python",
   "nbconvert_exporter": "python",
   "pygments_lexer": "ipython3",
   "version": "3.13.1"
  }
 },
 "nbformat": 4,
 "nbformat_minor": 2
}
