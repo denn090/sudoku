{
 "cells": [
  {
   "cell_type": "markdown",
   "metadata": {},
   "source": [
    "# Chatgpt4o:"
   ]
  },
  {
   "cell_type": "markdown",
   "metadata": {},
   "source": [
    "## Prompt \n",
    "\n",
    "Write a Python program for a basic calculator that supports addition, subtraction, multiplication, and division."
   ]
  },
  {
   "cell_type": "markdown",
   "metadata": {},
   "source": [
    "## Code-Analyse"
   ]
  },
  {
   "cell_type": "markdown",
   "metadata": {},
   "source": [
    "Das folgende Python-Programm implementiert einen einfachen Taschenrechner mit vier Grundrechenarten: Addition, Subtraktion, Multiplikation und Division. Der Nutzer wird interaktiv aufgefordert, eine Rechenoperation sowie zwei numerische Werte (x und y) einzugeben. Anschließend wird das Ergebnis basierend auf der gewählten Operation berechnet und ausgegeben."
   ]
  },
  {
   "cell_type": "code",
   "execution_count": 1,
   "metadata": {},
   "outputs": [],
   "source": [
    "def add(x, y):\n",
    "    return x + y\n",
    "\n",
    "def subtract(x, y):\n",
    "    return x - y\n",
    "\n",
    "def multiply(x, y):\n",
    "    return x * y\n",
    "\n",
    "def divide(x, y):\n",
    "    if y == 0:\n",
    "        return \"Error! Division by zero.\"\n",
    "    return x / y\n"
   ]
  },
  {
   "cell_type": "markdown",
   "metadata": {},
   "source": [
    "Die main()-Funktion übernimmt die Steuerung des Programmablaufs:\n",
    "\n",
    "- Sie zeigt ein Menü an,\n",
    "\n",
    "- liest die Benutzerwahl und Eingabewerte ein,\n",
    "\n",
    "- ruft die passende Funktion auf und\n",
    "\n",
    "- gibt das Ergebnis aus."
   ]
  },
  {
   "cell_type": "code",
   "execution_count": null,
   "metadata": {},
   "outputs": [],
   "source": [
    "\n",
    "def main():\n",
    "    print(\"Basic Calculator\")\n",
    "    print(\"Select operation:\")\n",
    "    print(\"1. Add\")\n",
    "    print(\"2. Subtract\")\n",
    "    print(\"3. Multiply\")\n",
    "    print(\"4. Divide\")\n",
    "\n",
    "    choice = input(\"Enter choice (1/2/3/4): \")\n",
    "\n",
    "    if choice in ['1', '2', '3', '4']:\n",
    "        try:\n",
    "            num1 = float(input(\"Enter first number: \"))\n",
    "            num2 = float(input(\"Enter second number: \"))\n",
    "        except ValueError:\n",
    "            print(\"Invalid input! Please enter numeric values.\")\n",
    "            return\n",
    "\n",
    "        if choice == '1':\n",
    "            print(f\"Result: {add(num1, num2)}\")\n",
    "        elif choice == '2':\n",
    "            print(f\"Result: {subtract(num1, num2)}\")\n",
    "        elif choice == '3':\n",
    "            print(f\"Result: {multiply(num1, num2)}\")\n",
    "        elif choice == '4':\n",
    "            print(f\"Result: {divide(num1, num2)}\")\n",
    "    else:\n",
    "        print(\"Invalid choice!\")\n",
    "\n",
    "if __name__ == \"__main__\":\n",
    "    main()\n",
    "\n"
   ]
  },
  {
   "cell_type": "markdown",
   "metadata": {},
   "source": [
    "Der Code ist vollständig ausführbar und besitzt sogar eine kleine Fehlerbehandlung, wie beispielsweise bei der division durch null."
   ]
  },
  {
   "cell_type": "markdown",
   "metadata": {},
   "source": [
    "## Tests"
   ]
  },
  {
   "cell_type": "markdown",
   "metadata": {},
   "source": [
    "### 1. Division durch 0"
   ]
  },
  {
   "cell_type": "code",
   "execution_count": 4,
   "metadata": {},
   "outputs": [
    {
     "name": "stdout",
     "output_type": "stream",
     "text": [
      "1. Division durch 0\n",
      "Error! Division by zero.\n"
     ]
    }
   ],
   "source": [
    "# Vorher den Codeblock mit den Operationen ausführen\n",
    "print(\"1. Division durch 0\")\n",
    "print(divide(5, 0))  # Erwartet: \"Error! Division by zero.\""
   ]
  },
  {
   "cell_type": "markdown",
   "metadata": {},
   "source": [
    "### 2. Extrem große Zahlen"
   ]
  },
  {
   "cell_type": "code",
   "execution_count": 5,
   "metadata": {},
   "outputs": [
    {
     "name": "stdout",
     "output_type": "stream",
     "text": [
      "2e+100\n",
      "0.0\n",
      "1e+200\n",
      "1.0\n"
     ]
    }
   ],
   "source": [
    "print(add(1e100, 1e100))        # Erwartet: 2e+100\n",
    "print(subtract(1e100, 1e100))   # Erwartet: 0.0\n",
    "print(multiply(1e100, 1e100))   # Erwartet: 1e+200\n",
    "print(divide(1e100, 1e100))     # Erwartet: 1.0"
   ]
  },
  {
   "cell_type": "markdown",
   "metadata": {},
   "source": [
    "### 3.Fließkommazahlen"
   ]
  },
  {
   "cell_type": "code",
   "execution_count": 6,
   "metadata": {},
   "outputs": [
    {
     "name": "stdout",
     "output_type": "stream",
     "text": [
      "7.7\n",
      "-0.7000000000000002\n",
      "14.700000000000001\n",
      "3.0\n"
     ]
    }
   ],
   "source": [
    "print(add(3.5, 4.2))            # Erwartet: 7.7\n",
    "print(subtract(3.5, 4.2))       # Erwartet: -0.7\n",
    "print(multiply(3.5, 4.2))       # Erwartet: 14.7\n",
    "print(divide(7.5, 2.5))         # Erwartet: 3.0\n"
   ]
  },
  {
   "cell_type": "markdown",
   "metadata": {},
   "source": [
    "Die Werte -0.7000000000000002 und 14.700000000000001 entstehen durch die begrenzte Genauigkeit der Fließkommazahlen in der Computerarithmetik, bei der manche Dezimalzahlen nicht exakt dargestellt werden können, was zu minimalen Abweichungen führt."
   ]
  },
  {
   "cell_type": "markdown",
   "metadata": {},
   "source": [
    "### 4. Nähe zu Null"
   ]
  },
  {
   "cell_type": "code",
   "execution_count": 7,
   "metadata": {},
   "outputs": [
    {
     "name": "stdout",
     "output_type": "stream",
     "text": [
      "2e-10\n",
      "0.0\n",
      "1.0\n",
      "1.0000000000000001e-20\n"
     ]
    }
   ],
   "source": [
    "print(add(1e-10, 1e-10))        # Erwartet: 2e-10\n",
    "print(subtract(1e-10, 1e-10))   # Erwartet: 0.0\n",
    "print(multiply(1e-10, 1e10))    # Erwartet: 1.0\n",
    "print(divide(1e-10, 1e10))      # Erwartet: 1e-20"
   ]
  },
  {
   "cell_type": "markdown",
   "metadata": {},
   "source": [
    "### 5.Negative Division"
   ]
  },
  {
   "cell_type": "code",
   "execution_count": 8,
   "metadata": {},
   "outputs": [
    {
     "name": "stdout",
     "output_type": "stream",
     "text": [
      "-2.0\n",
      "-2.0\n",
      "2.0\n"
     ]
    }
   ],
   "source": [
    "print(divide(-6, 3))            # Erwartet: -2.0\n",
    "print(divide(6, -3))            # Erwartet: -2.0\n",
    "print(divide(-6, -3))           # Erwartet: 2.0\n"
   ]
  },
  {
   "cell_type": "markdown",
   "metadata": {},
   "source": [
    "### 6. Große Division (Vermeidung von Überlauffehlern)"
   ]
  },
  {
   "cell_type": "code",
   "execution_count": 9,
   "metadata": {},
   "outputs": [
    {
     "name": "stdout",
     "output_type": "stream",
     "text": [
      "9.999999999999999e+49\n"
     ]
    }
   ],
   "source": [
    "print(divide(1e100, 1e50))      # Erwartet: 1e+50"
   ]
  },
  {
   "cell_type": "markdown",
   "metadata": {},
   "source": [
    "Das Ergebnis weicht minimal vom erwarteten Ergebnis ab.\n",
    "Das liegt daran, dass Computer Dezimalzahlen intern in Binärform speichern. Viele Zahlen, die in Dezimalform exakt sind (wie 0.1, 1e100 oder 1e50), können im Binärsystem nicht exakt dargestellt werden. Das führt zu kleinen Rundungsfehlern bei der Berechnung. Würde man mathematisch 10^100 / 10^50 = 10^50 erwarten – also 1e+50. Aber intern speichert Python diese riesigen Zahlen in Gleitkommaform, und bei der Division tritt ein winziger Genauigkeitsverlust auf,"
   ]
  },
  {
   "cell_type": "markdown",
   "metadata": {},
   "source": [
    "### 7. Falsche Argumente"
   ]
  },
  {
   "cell_type": "code",
   "execution_count": 10,
   "metadata": {},
   "outputs": [
    {
     "name": "stdout",
     "output_type": "stream",
     "text": [
      "TypeError: can only concatenate str (not \"int\") to str\n"
     ]
    }
   ],
   "source": [
    "try:\n",
    "    print(add(\"abc\", 5))        # Erwartet: TypeError\n",
    "except TypeError as e:\n",
    "    print(\"TypeError:\", e)"
   ]
  },
  {
   "cell_type": "markdown",
   "metadata": {},
   "source": [
    "TypeError wird nicht abgefangen"
   ]
  }
 ],
 "metadata": {
  "kernelspec": {
   "display_name": "Python 3",
   "language": "python",
   "name": "python3"
  },
  "language_info": {
   "codemirror_mode": {
    "name": "ipython",
    "version": 3
   },
   "file_extension": ".py",
   "mimetype": "text/x-python",
   "name": "python",
   "nbconvert_exporter": "python",
   "pygments_lexer": "ipython3",
   "version": "3.11.9"
  }
 },
 "nbformat": 4,
 "nbformat_minor": 2
}
