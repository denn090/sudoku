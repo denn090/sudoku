{
 "cells": [
  {
   "cell_type": "markdown",
   "metadata": {},
   "source": [
    "## Calculator\n",
    "\n",
    "Prompt: Write a Python program for a basic calculator that supports addition, subtraction, multiplication, and division.\n",
    "\n",
    "### Antwort Gemini:"
   ]
  },
  {
   "cell_type": "code",
   "execution_count": 2,
   "metadata": {},
   "outputs": [],
   "source": [
    "def add(x, y):\n",
    "    \"\"\"Adds two numbers.\"\"\"\n",
    "    return x + y\n",
    "\n",
    "def subtract(x, y):\n",
    "    \"\"\"Subtracts two numbers.\"\"\"\n",
    "    return x - y\n",
    "\n",
    "def multiply(x, y):\n",
    "    \"\"\"Multiplies two numbers.\"\"\"\n",
    "    return x * y\n",
    "\n",
    "def divide(x, y):\n",
    "    \"\"\"Divides two numbers.\"\"\"\n",
    "    if y == 0:\n",
    "        return \"Cannot divide by zero\"\n",
    "    return x / y"
   ]
  },
  {
   "cell_type": "code",
   "execution_count": 22,
   "metadata": {},
   "outputs": [
    {
     "name": "stdout",
     "output_type": "stream",
     "text": [
      "Select operation.\n",
      "1.Add\n",
      "2.Subtract\n",
      "3.Multiply\n",
      "4.Divide\n",
      "1.0 + 2.0 = 3.0\n",
      "6.0 - 2.0 = 4.0\n",
      "Invalid Input\n",
      "5.0 * 5.0 = 25.0\n",
      "24.0 / 6.0 = 4.0\n"
     ]
    }
   ],
   "source": [
    "print(\"Select operation.\")\n",
    "print(\"1.Add\")\n",
    "print(\"2.Subtract\")\n",
    "print(\"3.Multiply\")\n",
    "print(\"4.Divide\")\n",
    "\n",
    "while True:\n",
    "    choice = input(\"Enter choice(1/2/3/4): \")\n",
    "\n",
    "    if choice in ('1', '2', '3', '4'):\n",
    "        try:\n",
    "            num1 = float(input(\"Enter first number: \"))\n",
    "            num2 = float(input(\"Enter second number: \"))\n",
    "        except ValueError:\n",
    "            print(\"Invalid input. Please enter a number.\")\n",
    "            continue\n",
    "\n",
    "        if choice == '1':\n",
    "            print(num1, \"+\", num2, \"=\", add(num1, num2))\n",
    "\n",
    "        elif choice == '2':\n",
    "            print(num1, \"-\", num2, \"=\", subtract(num1, num2))\n",
    "\n",
    "        elif choice == '3':\n",
    "            print(num1, \"*\", num2, \"=\", multiply(num1, num2))\n",
    "\n",
    "        elif choice == '4':\n",
    "            print(num1, \"/\", num2, \"=\", divide(num1, num2))\n",
    "\n",
    "        next_calculation = input(\"Let's do next calculation? (yes/no): \")\n",
    "        if next_calculation.lower() == \"no\":\n",
    "          break\n",
    "    else:\n",
    "        print(\"Invalid Input\")"
   ]
  },
  {
   "cell_type": "markdown",
   "metadata": {},
   "source": [
    "### Code-Analyse\n",
    "\n",
    "#### Funktionen\n",
    "\n",
    "- Die Funktion `add(x, y)` nimmt zwei Zahlen x und y als Eingabe und gibt ihre Summe zurück\n",
    "- Die Funktion `subtract(x, y)` nimmt zwei Zahlen x und y als Eingabe und gibt ihre Differenz zurück\n",
    "- Die Funktion `multiply(x, y)` nimmt zwei Zahlen x und y als Eingabe und gibt ihr Produkt zurück\n",
    "- Die Funktion `divide(x, y)` nimmt zwei Zahlen x und y als Eingabe und gibt ihren Quotienten zurück\n",
    "\n",
    "Zusätzlich ist eine Überprüfung vorhanden, um eine Division durch Null zu verhindern und gibt in diesem Fall eine Fehlermeldung aus.\n",
    "\n",
    "#### Benutzereingabe\n",
    "\n",
    "- Das Programm gibt eine Liste von Optionen `(1-4)` aus, die den verschiedenen Rechenoperationen entsprechen\n",
    "- Der Benutzer wird aufgefordert, eine Option auszuwählen\n",
    "- Das Programm verwendet eine `while True-Schleife`, um wiederholte Berechnungen zu ermöglichen\n",
    "\n",
    "Die Eingabe des Nutzers wird auf Gültigkeit geprüft, und eine Fehlermeldung wird ausgegeben, falls der Nutzer keine Zahl eingibt.  \n",
    "\n",
    "#### Berechnung und Ausgabe\n",
    "\n",
    "- Basierend auf der Benutzerauswahl ruft das Programm die entsprechende Funktion auf\n",
    "- Es wird das Ergebnis der Berechnung ausgegeben\n",
    "\n",
    "Das Ergebnis wird formatiert ausgegeben, um die durchgeführte Operation anzuzeigen.\n",
    "\n",
    "#### Fehlerbehandlung\n",
    "\n",
    "- Das Programm verwendet einen `try-except-Block`\n",
    "- Fängt ValueError-Exceptions, die auftreten können, wenn der Benutzer keine gültige Zahl eingibt\n",
    "- Die `divide()`-Funktion enthält eine explizite Überprüfung auf Division durch Null\n",
    "\n",
    "### Tests"
   ]
  },
  {
   "cell_type": "markdown",
   "metadata": {},
   "source": [
    "1. Division durch 0\n"
   ]
  },
  {
   "cell_type": "code",
   "execution_count": 5,
   "metadata": {},
   "outputs": [
    {
     "name": "stdout",
     "output_type": "stream",
     "text": [
      "Cannot divide by zero\n"
     ]
    }
   ],
   "source": [
    "print(divide(100, 0))  # \"Division durch Null Fehler.\""
   ]
  },
  {
   "cell_type": "markdown",
   "metadata": {},
   "source": [
    "2. Extrem große Zahlen"
   ]
  },
  {
   "cell_type": "code",
   "execution_count": 7,
   "metadata": {},
   "outputs": [
    {
     "name": "stdout",
     "output_type": "stream",
     "text": [
      "8e+200\n",
      "7e+150\n",
      "8e+200\n"
     ]
    }
   ],
   "source": [
    "print(add(5e200, 3e200))        # 8e200\n",
    "print(subtract(9e150, 2e150))   # 7e150\n",
    "print(multiply(2e100, 4e100))   # 8e200"
   ]
  },
  {
   "cell_type": "markdown",
   "metadata": {},
   "source": [
    "3. Fließkommazahlen"
   ]
  },
  {
   "cell_type": "code",
   "execution_count": 10,
   "metadata": {},
   "outputs": [
    {
     "name": "stdout",
     "output_type": "stream",
     "text": [
      "16.0\n",
      "7.500000000000001\n",
      "8.75\n",
      "7.0\n"
     ]
    }
   ],
   "source": [
    "print(add(12.75, 3.25))          # 16.0\n",
    "print(subtract(9.8, 2.3))        # 7.5\n",
    "print(multiply(2.5, 3.5))        # 8.75\n",
    "print(divide(10.5, 1.5))         # 7.0"
   ]
  },
  {
   "cell_type": "markdown",
   "metadata": {},
   "source": [
    "4. Nähe zu Null"
   ]
  },
  {
   "cell_type": "code",
   "execution_count": 11,
   "metadata": {},
   "outputs": [
    {
     "name": "stdout",
     "output_type": "stream",
     "text": [
      "4e-12\n",
      "3e-15\n",
      "0.4\n",
      "3e-09\n"
     ]
    }
   ],
   "source": [
    "print(add(1e-12, 3e-12))         # 4e-12\n",
    "print(subtract(5e-15, 2e-15))    # 3e-15\n",
    "print(multiply(8e-08, 5e06))     # 0.04\n",
    "print(divide(9e-18, 3e-09))      # 3e-09"
   ]
  },
  {
   "cell_type": "markdown",
   "metadata": {},
   "source": [
    "5. Negative Division"
   ]
  },
  {
   "cell_type": "code",
   "execution_count": 12,
   "metadata": {},
   "outputs": [
    {
     "name": "stdout",
     "output_type": "stream",
     "text": [
      "-3.0\n",
      "-5.0\n",
      "3.0\n"
     ]
    }
   ],
   "source": [
    "print(divide(-15, 5))            # -3.0\n",
    "print(divide(20, -4))            # -5.0\n",
    "print(divide(-24, -8))           # 3.0\n"
   ]
  },
  {
   "cell_type": "markdown",
   "metadata": {},
   "source": [
    "6. Große Division (Vermeidung von Überlauffehlern)"
   ]
  },
  {
   "cell_type": "code",
   "execution_count": 13,
   "metadata": {},
   "outputs": [
    {
     "name": "stdout",
     "output_type": "stream",
     "text": [
      "2000000000.0000002\n"
     ]
    }
   ],
   "source": [
    "print(divide(1e300, 5e290))      # 2e10"
   ]
  },
  {
   "cell_type": "markdown",
   "metadata": {},
   "source": [
    "7. Falsche Argumente"
   ]
  },
  {
   "cell_type": "code",
   "execution_count": 15,
   "metadata": {},
   "outputs": [
    {
     "name": "stdout",
     "output_type": "stream",
     "text": [
      "TypeError: can only concatenate str (not \"int\") to str\n"
     ]
    }
   ],
   "source": [
    "# Test für falsche Eingaben (manuell prüfen)\n",
    "try:\n",
    "    print(add(\"Hallo\", 2)) # TypeError\n",
    "except TypeError as e:\n",
    "    print(\"TypeError:\", e)"
   ]
  }
 ],
 "metadata": {
  "kernelspec": {
   "display_name": "Python 3",
   "language": "python",
   "name": "python3"
  },
  "language_info": {
   "codemirror_mode": {
    "name": "ipython",
    "version": 3
   },
   "file_extension": ".py",
   "mimetype": "text/x-python",
   "name": "python",
   "nbconvert_exporter": "python",
   "pygments_lexer": "ipython3",
   "version": "3.13.1"
  }
 },
 "nbformat": 4,
 "nbformat_minor": 2
}
