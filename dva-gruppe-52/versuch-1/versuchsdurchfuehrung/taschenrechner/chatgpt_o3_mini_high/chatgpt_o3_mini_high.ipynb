{
 "cells": [
  {
   "cell_type": "markdown",
   "metadata": {},
   "source": [
    "# ChatGPT o3 mini high"
   ]
  },
  {
   "cell_type": "markdown",
   "metadata": {},
   "source": [
    "# Prompt\n",
    "\n",
    "Write a Python program for a basic calculator that supports addition, subtraction, multiplication, and division."
   ]
  },
  {
   "cell_type": "markdown",
   "metadata": {},
   "source": [
    "## Code-Analyse"
   ]
  },
  {
   "cell_type": "code",
   "execution_count": null,
   "metadata": {},
   "outputs": [],
   "source": [
    "def add(a, b):\n",
    "    return a + b\n",
    "\n",
    "def subtract(a, b):\n",
    "    return a - b\n",
    "\n",
    "def multiply(a, b):\n",
    "    return a * b\n",
    "\n",
    "def divide(a, b):\n",
    "    if b != 0:\n",
    "        return a / b\n",
    "    return \"Division by zero error.\""
   ]
  },
  {
   "cell_type": "markdown",
   "metadata": {},
   "source": [
    "### Funktionen:\n",
    "- `add(a, b)`: Gibt die Summe von `a` und `b` zurück.\n",
    "- `subtract(a, b)`: Gibt die Differenz von `a` und `b` zurück.\n",
    "- `multiply(a, b)`: Gibt das Produkt von `a` und `b` zurück.\n",
    "- `divide(a, b)`: Gibt das Ergebnis der Division zurück, außer wenn `b = 0`, dann Fehlermeldung."
   ]
  },
  {
   "cell_type": "code",
   "execution_count": null,
   "metadata": {},
   "outputs": [],
   "source": [
    "def main():\n",
    "    print(\"Choose operation:\")\n",
    "    print(\"1. Addition\\n2. Subtraction\\n3. Multiplication\\n4. Division\")\n",
    "    op = input(\"Enter choice (1/2/3/4): \")\n",
    "    if op not in (\"1\", \"2\", \"3\", \"4\"):\n",
    "        print(\"Invalid choice.\")\n",
    "        return\n",
    "    try:\n",
    "        num1 = float(input(\"Enter first number: \"))\n",
    "        num2 = float(input(\"Enter second number: \"))\n",
    "    except ValueError:\n",
    "        print(\"Invalid number.\")\n",
    "        return\n",
    "\n",
    "    if op == \"1\":\n",
    "        print(\"Result:\", add(num1, num2))\n",
    "    elif op == \"2\":\n",
    "        print(\"Result:\", subtract(num1, num2))\n",
    "    elif op == \"3\":\n",
    "        print(\"Result:\", multiply(num1, num2))\n",
    "    elif op == \"4\":\n",
    "        print(\"Result:\", divide(num1, num2))"
   ]
  },
  {
   "cell_type": "markdown",
   "metadata": {},
   "source": [
    "### `main()`-Funktion:\n",
    "- Zeigt ein Menü zur Auswahl der Rechenart.\n",
    "- Liest die Nutzerauswahl (`1`–`4`).\n",
    "- Fordert zwei Zahlen vom Benutzer ab.\n",
    "- Führt die gewählte Rechenoperation aus und zeigt das Ergebnis."
   ]
  },
  {
   "cell_type": "code",
   "execution_count": null,
   "metadata": {},
   "outputs": [],
   "source": [
    "if __name__ == \"__main__\":\n",
    "    main()"
   ]
  },
  {
   "cell_type": "markdown",
   "metadata": {},
   "source": [
    "### Einstiegspunkt:\n",
    "- `if __name__ == \"__main__\":` sorgt dafür, dass `main()` nur aufgerufen wird, wenn das Skript direkt ausgeführt wird."
   ]
  },
  {
   "cell_type": "markdown",
   "metadata": {},
   "source": [
    "## Tests"
   ]
  },
  {
   "cell_type": "markdown",
   "metadata": {},
   "source": [
    "### 1. Division durch 0"
   ]
  },
  {
   "cell_type": "code",
   "execution_count": null,
   "metadata": {},
   "outputs": [],
   "source": [
    "print(divide(5, 0))  # \"Division by zero error.\""
   ]
  },
  {
   "cell_type": "markdown",
   "metadata": {},
   "source": [
    "### 2. Extrem große Zahlen"
   ]
  },
  {
   "cell_type": "code",
   "execution_count": null,
   "metadata": {},
   "outputs": [],
   "source": [
    "print(add(1e100, 1e100))         # 2e100\n",
    "print(subtract(1e100, 1e100))    # 0.0\n",
    "print(multiply(1e100, 1e100))    # 1e200\n",
    "print(divide(1e100, 1e100))      # 1.0"
   ]
  },
  {
   "cell_type": "markdown",
   "metadata": {},
   "source": [
    "### 3.Fließkommazahlen"
   ]
  },
  {
   "cell_type": "code",
   "execution_count": null,
   "metadata": {},
   "outputs": [],
   "source": [
    "print(add(3.5, 4.2))             # 7.7\n",
    "print(subtract(3.5, 4.2))        # -0.7\n",
    "print(multiply(3.5, 4.2))        # 14.7\n",
    "print(divide(7.5, 2.5))          # 3.0"
   ]
  },
  {
   "cell_type": "markdown",
   "metadata": {},
   "source": [
    "### 4. Nähe zu Null"
   ]
  },
  {
   "cell_type": "code",
   "execution_count": null,
   "metadata": {},
   "outputs": [],
   "source": [
    "print(add(1e-10, 1e-10))         # 2e-10\n",
    "print(subtract(1e-10, 1e-10))    # 0.0\n",
    "print(multiply(1e-10, 1e10))     # 1.0\n",
    "print(divide(1e-10, 1e10))       # 1e-20"
   ]
  },
  {
   "cell_type": "markdown",
   "metadata": {},
   "source": [
    "### 5.Negative Division"
   ]
  },
  {
   "cell_type": "code",
   "execution_count": null,
   "metadata": {},
   "outputs": [],
   "source": [
    "print(divide(-6, 3))             # -2.0\n",
    "print(divide(6, -3))             # -2.0\n",
    "print(divide(-6, -3))            # 2.0"
   ]
  },
  {
   "cell_type": "markdown",
   "metadata": {},
   "source": [
    "### 6. Große Division (Vermeidung von Überlauffehlern)"
   ]
  },
  {
   "cell_type": "code",
   "execution_count": null,
   "metadata": {},
   "outputs": [],
   "source": [
    "print(divide(1e100, 1e50))       # 1e50"
   ]
  },
  {
   "cell_type": "markdown",
   "metadata": {},
   "source": [
    "### 7. Falsche Argumente"
   ]
  },
  {
   "cell_type": "code",
   "execution_count": null,
   "metadata": {},
   "outputs": [],
   "source": [
    "# Test für falsche Eingaben (manuell prüfen)\n",
    "try:\n",
    "    print(add(\"abc\", 5))         # gibt einen TypeError\n",
    "except TypeError as e:\n",
    "    print(\"TypeError:\", e)"
   ]
  }
 ],
 "metadata": {
  "kernelspec": {
   "display_name": "base",
   "language": "python",
   "name": "python3"
  },
  "language_info": {
   "codemirror_mode": {
    "name": "ipython",
    "version": 3
   },
   "file_extension": ".py",
   "mimetype": "text/x-python",
   "name": "python",
   "nbconvert_exporter": "python",
   "pygments_lexer": "ipython3",
   "version": "3.12.9"
  }
 },
 "nbformat": 4,
 "nbformat_minor": 2
}
