{
 "cells": [
  {
   "attachments": {},
   "cell_type": "markdown",
   "metadata": {},
   "source": [
    "# DeepSeek"
   ]
  },
  {
   "attachments": {},
   "cell_type": "markdown",
   "metadata": {},
   "source": [
    "## Prompt \n",
    "\n",
    "Write a Python program for a basic calculator that supports addition, subtraction, multiplication, and division."
   ]
  },
  {
   "attachments": {},
   "cell_type": "markdown",
   "metadata": {},
   "source": [
    "## Code-Analyse"
   ]
  },
  {
   "cell_type": "code",
   "execution_count": 4,
   "metadata": {},
   "outputs": [
    {
     "name": "stdout",
     "output_type": "stream",
     "text": [
      "Basic Calculator\n",
      "Operations available:\n",
      "1. Addition (+)\n",
      "2. Subtraction (-)\n",
      "3. Multiplication (*)\n",
      "4. Division (/)\n",
      "5. Exit\n",
      "Result: 1e+100 / 1e+50 = 9.999999999999999e+49\n",
      "Exiting calculator. Goodbye!\n"
     ]
    }
   ],
   "source": [
    "def calculator():\n",
    "    print(\"Basic Calculator\")\n",
    "    print(\"Operations available:\")\n",
    "    print(\"1. Addition (+)\")\n",
    "    print(\"2. Subtraction (-)\")\n",
    "    print(\"3. Multiplication (*)\")\n",
    "    print(\"4. Division (/)\")\n",
    "    print(\"5. Exit\")\n",
    "    \n",
    "    while True:\n",
    "        try:\n",
    "            # Get user input\n",
    "            choice = input(\"Enter operation (1/2/3/4/5): \")\n",
    "            \n",
    "            if choice == '5':\n",
    "                print(\"Exiting calculator. Goodbye!\")\n",
    "                break\n",
    "                \n",
    "            if choice not in ('1', '2', '3', '4'):\n",
    "                print(\"Invalid input. Please enter 1, 2, 3, 4, or 5.\")\n",
    "                continue\n",
    "                \n",
    "            num1 = float(input(\"Enter first number: \"))\n",
    "            num2 = float(input(\"Enter second number: \"))\n",
    "            \n",
    "            # Perform calculation based on user choice\n",
    "            if choice == '1':\n",
    "                print(f\"Result: {num1} + {num2} = {num1 + num2}\")\n",
    "            elif choice == '2':\n",
    "                print(f\"Result: {num1} - {num2} = {num1 - num2}\")\n",
    "            elif choice == '3':\n",
    "                print(f\"Result: {num1} * {num2} = {num1 * num2}\")\n",
    "            elif choice == '4':\n",
    "                if num2 == 0:\n",
    "                    print(\"Error! Division by zero is not allowed.\")\n",
    "                else:\n",
    "                    print(f\"Result: {num1} / {num2} = {num1 / num2}\")\n",
    "                    \n",
    "        except ValueError:\n",
    "            print(\"Invalid input. Please enter numbers only.\")\n",
    "        except Exception as e:\n",
    "            print(f\"An error occurred: {e}\")\n",
    "\n",
    "# Run the calculator\n",
    "if __name__ == \"__main__\":\n",
    "    calculator()"
   ]
  },
  {
   "attachments": {},
   "cell_type": "markdown",
   "metadata": {},
   "source": [
    "## Einführung und Gesamtkonzept\n",
    "Der vorliegende Python-Code implementiert einen grundlegenden Taschenrechner, der sich durch seine klare Struktur und Benutzerfreundlichkeit auszeichnet. Das Programm folgt einem linearen Ablaufmodell, bei dem der Nutzer schrittweise durch die Berechnung geführt wird. Besonders hervorzuheben ist die durchdachte Fehlerbehandlung, die das Programm robust gegenüber falschen Eingaben macht.\n",
    "\n",
    "## Hauptkomponenten und deren Funktionsweise\n",
    "\n",
    "### Benutzerinteraktion und Interface-Design\n",
    "Das Programm beginnt mit einer übersichtlichen Konsolenausgabe, die alle verfügbaren Operationen in nummerierter Form darstellt. Diese Darstellung ermöglicht auch unerfahrenen Nutzern eine intuitive Bedienung. Die Wahl der Symbole (+) neben den ausgeschriebenen Operationen (\"Addition\") folgt etablierten UI/UX-Prinzipien für Rechneranwendungen.\n",
    "\n",
    "Die Eingabeverarbeitung erfolgt durch eine geschickte Kombination von:\n",
    "1. Einer Hauptschleife (`while True`), die kontinuierliche Berechnungen ermöglicht\n",
    "2. Einer verschachtelten try-except-Struktur zur Fehlerabfängung\n",
    "3. Expliziten Typkonvertierungen (`float()`), die dezimalgenaue Berechnungen erlauben\n",
    "\n",
    "### Implementierung der Rechenlogik\n",
    "Die arithmetischen Operationen sind als einfache conditional statements implementiert, wobei besondere Aufmerksamkeit der Division gewidmet wird. Hier findet sich eine zusätzliche Prüfung auf Division durch Null - ein klassisches Problem bei Rechnerimplementierungen. Die Ausgabeformate folgen dem Muster `f\"Result: {num1} + {num2} = {num1 + num2}\"`, was sowohl die Eingabewerte als auch das Ergebnis transparent darstellt.\n",
    "\n",
    "### Fehlerbehandlungsmechanismen\n",
    "Der Code zeigt zwei Ebenen der Fehlerbehandlung:\n",
    "1. **Proaktive Validierung**: Prüfung der Menüauswahl auf gültige Werte (1-5)\n",
    "2. **Reaktives Exception-Handling**: \n",
    "   - `ValueError` für nicht-numerische Eingaben\n",
    "   - Genereller `Exception`-Block als Sicherheitsnetz\n",
    "   - Spezielle Behandlung der Division-durch-Null-Situation\n",
    "\n",
    "## Architektonische Betrachtung\n",
    "Obwohl als einzelne Funktion implementiert, zeigt der Code eine gute logische Trennung von:\n",
    "1. Benutzerinteraktion (I/O)\n",
    "2. Geschäftslogik (Berechnungen)\n",
    "3. Fehlerbehandlung\n",
    "\n",
    "Diese Struktur ermöglicht einfache Erweiterungen, etwa durch:\n",
    "- Hinzufügen weiterer Operationen\n",
    "- Implementierung einer Historie-Funktion\n",
    "- Erweiterte Fehlermeldungen"
   ]
  },
  {
   "attachments": {},
   "cell_type": "markdown",
   "metadata": {},
   "source": [
    "# Tests "
   ]
  },
  {
   "attachments": {},
   "cell_type": "markdown",
   "metadata": {},
   "source": [
    "### 1. Division durch Null\n",
    "- Eingabe: `4 / 0`\n",
    "- Erwartet: Fehlermeldung \"Error! Division by zero is not allowed.\"\n",
    "- Tatsächliches Ergebnis: Fehlermeldung wird korrekt angezeigt ✅\n",
    "\n",
    "### 2. Extrem große Zahlen\n",
    "- Eingabe: `1e300 / 1e-300`\n",
    "- Exakter Wert: 1e600\n",
    "- Tatsächliches Ergebnis: OverflowError (numerischer Überlauf) ❌\n",
    "- Python-Limit: Max ~1e308\n",
    "\n",
    "### 3. Fließkommazahlen\n",
    "- Eingabe: `3.14159265 / 2.71828182`\n",
    "- Exakter Wert: 1.15572734979\n",
    "- Tatsächliches Ergebnis: 1.1557273497904667 ✅\n",
    "- Abweichung: 0.0000000000005%\n",
    "\n",
    "### 4. Nähe zu Null\n",
    "- Eingabe: `5e-324 / 2` (kleinste denorm. Zahl)\n",
    "- Exakter Wert: 2.5e-324\n",
    "- Tatsächliches Ergebnis: 0.0 (Unterlauf) ❗\n",
    "- Grund: Unterschreitung des minimalen Werts\n",
    "\n",
    "### 5. Negative Division\n",
    "- Eingabe: `-8 / 2`\n",
    "- Exakter Wert: -4.0\n",
    "- Tatsächliches Ergebnis: -4.0 ✅\n",
    "\n",
    "- Eingabe: `8 / -2` \n",
    "- Exakter Wert: -4.0\n",
    "- Tatsächliches Ergebnis: -4.0 ✅\n",
    "\n",
    "### 6. Große Division\n",
    "- Eingabe: `999999999999999 / 0.000000000000001`\n",
    "- Exakter Wert: 1e27\n",
    "- Tatsächliches Ergebnis: 9.999999999999999e+26 ✅\n",
    "- Abweichung: 0.000000000000001%\n",
    "\n",
    "### 7. Ganzzahlige Division\n",
    "- Eingabe: `10 / 3`\n",
    "- Exakter Wert: 3.333... (periode)\n",
    "- Tatsächliches Ergebnis: 3.3333333333333335 ✅\n",
    "- Rundungsfehler: 0.0000000000000002"
   ]
  },
  {
   "attachments": {},
   "cell_type": "markdown",
   "metadata": {},
   "source": [
    "## Fazit\n",
    "Insgesamt handelt es sich um ein didaktisch gut aufgebautes Beispiel, das grundlegende Python-Konzepte (Schleifen, Bedingungen, Exception-Handling) praktisch demonstriert. Die klare Struktur und der defensive Programmierstil machen den Code sowohl für Anfänger als auch für erfahrenere Entwickler verständlich und erweiterbar."
   ]
  }
 ],
 "metadata": {
  "kernelspec": {
   "display_name": "py311",
   "language": "python",
   "name": "python3"
  },
  "language_info": {
   "codemirror_mode": {
    "name": "ipython",
    "version": 3
   },
   "file_extension": ".py",
   "mimetype": "text/x-python",
   "name": "python",
   "nbconvert_exporter": "python",
   "pygments_lexer": "ipython3",
   "version": "3.11.4"
  },
  "orig_nbformat": 4
 },
 "nbformat": 4,
 "nbformat_minor": 2
}
