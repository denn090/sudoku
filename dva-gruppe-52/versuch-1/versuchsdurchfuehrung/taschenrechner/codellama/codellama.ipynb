{
 "cells": [
  {
   "cell_type": "markdown",
   "metadata": {},
   "source": [
    "# CodeLlama 13b:"
   ]
  },
  {
   "cell_type": "markdown",
   "metadata": {},
   "source": [
    "## Prompt \n",
    "\n",
    "Write a Python program for a basic calculator that supports addition, subtraction, multiplication, and division."
   ]
  },
  {
   "cell_type": "markdown",
   "metadata": {},
   "source": [
    "## Code-Analyse"
   ]
  },
  {
   "cell_type": "markdown",
   "metadata": {},
   "source": [
    "Die Klasse Calculator enthält vier grundlegende Methoden: add, subtract, multiply, und divide.\n",
    "Jede Methode akzeptiert zwei numerische Eingabewerte (num1 und num2) und führt eine Operation basierend auf der jeweiligen Methode aus.\n",
    "Diese Implementierung ermöglicht die grundlegenden arithmetischen Operationen, die man von einem Taschenrechner erwarten würde"
   ]
  },
  {
   "cell_type": "code",
   "execution_count": null,
   "metadata": {},
   "outputs": [],
   "source": [
    "class Calculator:\n",
    "    def add(self, num1, num2):\n",
    "        return num1 + num2\n",
    "    \n",
    "    def subtract(self, num1, num2):\n",
    "        return num1 - num2\n",
    "    \n",
    "    def multiply(self, num1, num2):\n",
    "        return num1 * num2\n",
    "    \n",
    "    def divide(self, num1, num2):\n",
    "        if num2 == 0:\n",
    "            raise ValueError(\"Cannot divide by zero\")\n",
    "        return num1 / num2"
   ]
  },
  {
   "cell_type": "markdown",
   "metadata": {},
   "source": [
    "Erstes Anwendungsbeispiel instanziert das Calculator-Object und führt jede Operation einmal mit verschiedenen ganzan Zahlen durch. Beispiele funktionieren"
   ]
  },
  {
   "cell_type": "code",
   "execution_count": null,
   "metadata": {},
   "outputs": [],
   "source": [
    "\n",
    "calc = Calculator()\n",
    "result = calc.add(3, 4)\n",
    "print(result) # Output: 7\n",
    "\n",
    "result = calc.subtract(3, 4)\n",
    "print(result) # Output: -1\n",
    "\n",
    "result = calc.multiply(3, 4)\n",
    "print(result) # Output: 12\n",
    "\n",
    "result = calc.divide(6, 2)\n",
    "print(result) # Output: 3\n"
   ]
  },
  {
   "cell_type": "markdown",
   "metadata": {},
   "source": [
    "Der Code versucht, Operatoren wie +, -, *, und / direkt auf die Calculator-Instanz anzuwenden, was in Python nicht funktioniert. Die Calculator-Klasse hat keine Methoden zur Überladung dieser Operatoren. Ohne diese Überladung wirft Python einen TypeError, da calc nicht wie eine Zahl behandelt werden kann. Um dies zu ermöglichen, müsste die Klasse entsprechende Methoden wie __add__, __sub__ usw. implementieren."
   ]
  },
  {
   "cell_type": "code",
   "execution_count": null,
   "metadata": {},
   "outputs": [],
   "source": [
    "result = calc + 3 + 4\n",
    "print(result) # Output: 7\n",
    "\n",
    "result = calc - 3 - 4\n",
    "print(result) # Output: -1\n",
    "\n",
    "result = calc * 3 * 4\n",
    "print(result) # Output: 12\n",
    "\n",
    "result = calc / 6 / 2\n",
    "print(result) # Output: 3\n"
   ]
  },
  {
   "cell_type": "markdown",
   "metadata": {},
   "source": [
    "## Tests"
   ]
  },
  {
   "cell_type": "markdown",
   "metadata": {},
   "source": [
    "### 1. Division durch 0"
   ]
  },
  {
   "cell_type": "code",
   "execution_count": null,
   "metadata": {},
   "outputs": [],
   "source": [
    "calc = Calculator()\n",
    "try:\n",
    "    result = calc.divide(5, 0)\n",
    "except ValueError as e:\n",
    "    print(e)"
   ]
  },
  {
   "cell_type": "markdown",
   "metadata": {},
   "source": [
    "### 2. Extrem große Zahlen"
   ]
  },
  {
   "cell_type": "code",
   "execution_count": null,
   "metadata": {},
   "outputs": [],
   "source": [
    "result = calc.add(1e100, 1e100)\n",
    "print(result)  # erwartete Ausgabe: 2e100\n",
    "\n",
    "result = calc.subtract(1e100, 1e100)\n",
    "print(result)  # erwartete Ausgabe: 0.0\n",
    "\n",
    "result = calc.multiply(1e100, 1e100)\n",
    "print(result)  # erwartete Ausgabe: 1e200\n",
    "\n",
    "result = calc.divide(1e100, 1e100)\n",
    "print(result)  # erwartete Ausgabe: 1.0\n"
   ]
  },
  {
   "cell_type": "markdown",
   "metadata": {},
   "source": [
    "### 3.Fließkommazahlen"
   ]
  },
  {
   "cell_type": "code",
   "execution_count": null,
   "metadata": {},
   "outputs": [],
   "source": [
    "result = calc.add(3.5, 4.2)\n",
    "print(result)  # erwartete Ausgabe: 7.7\n",
    "\n",
    "result = calc.subtract(3.5, 4.2)\n",
    "print(result)  # erwartete Ausgabe: -0.7\n",
    "\n",
    "result = calc.multiply(3.5, 4.2)\n",
    "print(result)  # erwartete Ausgabe: 14.7\n",
    "\n",
    "result = calc.divide(7.5, 2.5)\n",
    "print(result)  # erwartete Ausgabe: 3.0\n"
   ]
  },
  {
   "cell_type": "markdown",
   "metadata": {},
   "source": [
    "Die Werte -0.7000000000000002 und 14.700000000000001 entstehen durch die begrenzte Genauigkeit der Fließkommazahlen in der Computerarithmetik, bei der manche Dezimalzahlen nicht exakt dargestellt werden können, was zu minimalen Abweichungen führt."
   ]
  },
  {
   "cell_type": "markdown",
   "metadata": {},
   "source": [
    "### 4. Nähe zu Null"
   ]
  },
  {
   "cell_type": "code",
   "execution_count": null,
   "metadata": {},
   "outputs": [],
   "source": [
    "result = calc.add(1e-10, 1e-10)\n",
    "print(result)  # erwartete Ausgabe: 2e-10\n",
    "\n",
    "result = calc.subtract(1e-10, 1e-10)\n",
    "print(result)  # erwartete Ausgabe: 0.0\n",
    "\n",
    "result = calc.multiply(1e-10, 1e10)\n",
    "print(result)  # erwartete Ausgabe: 1.0\n",
    "\n",
    "result = calc.divide(1e-10, 1e10)\n",
    "print(result)  # erwartete Ausgabe: 1e-20"
   ]
  },
  {
   "cell_type": "markdown",
   "metadata": {},
   "source": [
    "### 5.Negative Division"
   ]
  },
  {
   "cell_type": "code",
   "execution_count": null,
   "metadata": {},
   "outputs": [],
   "source": [
    "result = calc.divide(-6, 3)\n",
    "print(result)  # erwartete Ausgabe: -2.0\n",
    "\n",
    "result = calc.divide(6, -3)\n",
    "print(result)  # erwartete Ausgabe: -2.0\n",
    "\n",
    "result = calc.divide(-6, -3)\n",
    "print(result)  # erwartete Ausgabe: 2.0\n"
   ]
  },
  {
   "cell_type": "markdown",
   "metadata": {},
   "source": [
    "### 6. Große Division (Vermeidung von Überlauffehlern)"
   ]
  },
  {
   "cell_type": "code",
   "execution_count": null,
   "metadata": {},
   "outputs": [],
   "source": [
    "result = calc.divide(1e100, 1e50)\n",
    "print(result)  # erwartete Ausgabe: 1e50"
   ]
  },
  {
   "cell_type": "markdown",
   "metadata": {},
   "source": [
    "Rückgabe der unpräzisen Darstellung im wissenschaftlichen Format"
   ]
  },
  {
   "cell_type": "markdown",
   "metadata": {},
   "source": [
    "### 7. Falsche Argumente"
   ]
  },
  {
   "cell_type": "code",
   "execution_count": null,
   "metadata": {},
   "outputs": [],
   "source": [
    "# Test für falsche Eingaben (manuell prüfen)\n",
    "try:\n",
    "    print(calc.add(\"abc\", 5))         # gibt einen TypeError\n",
    "except TypeError as e:\n",
    "    print(\"TypeError:\", e)"
   ]
  },
  {
   "cell_type": "markdown",
   "metadata": {},
   "source": [
    "TypeError wird nicht abgefangen"
   ]
  }
 ],
 "metadata": {
  "kernelspec": {
   "display_name": "venv",
   "language": "python",
   "name": "python3"
  },
  "language_info": {
   "codemirror_mode": {
    "name": "ipython",
    "version": 3
   },
   "file_extension": ".py",
   "mimetype": "text/x-python",
   "name": "python",
   "nbconvert_exporter": "python",
   "pygments_lexer": "ipython3",
   "version": "3.9.6"
  }
 },
 "nbformat": 4,
 "nbformat_minor": 2
}
