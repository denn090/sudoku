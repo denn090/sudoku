{
 "cells": [
  {
   "cell_type": "markdown",
   "metadata": {},
   "source": [
    "# Experiment 1"
   ]
  },
  {
   "cell_type": "markdown",
   "metadata": {},
   "source": [
    "\n",
    "**Exploring Large Language Models in Programming Tasks**\n",
    "\n",
    "In diesem Notebook untersuchen wir die Fähigkeiten verschiedener Large Language Models (LLMs) bei der Lösung von Programmieraufgaben. Die ausgewählten Modelle umfassen **Gemini**, **Deepseek**, **CodeLlama** sowie verschiedene Instanzen von **ChatGPT**. Unser Ziel ist es, herauszufinden, wie gut diese Modelle bei der Erstellung funktionaler Programme abschneiden, die spezifische Aufgaben in Python lösen.\n",
    "\n",
    "Wir werden drei grundlegende Programmieraufgaben verwenden, um die Leistung jedes Modells zu testen:\n",
    "\n",
    "1. **Ein Taschenrechner:** Wir testen, wie gut die Modelle grundlegende mathematische Operationen implementieren und wie robust ihre Fehlerbehandlung ist.\n",
    "2. **Ein Einzelspieler PONG-Spiel:** Hier möchten wir überprüfen, ob die Modelle in der Lage sind, ein funktionierendes Spiel zu entwickeln und dabei sinnvolle Spielmechaniken zu integrieren.\n",
    "3. **Sortieren von Zahlen:** Die Modelle werden aufgefordert, eine Liste von Zahlen zu sortieren. Dabei schauen wir uns an, welchen Algorithmus jedes Modell wählt und wie effizient dieser ist.\n",
    "\n",
    "Im Laufe dieses Projekts werden wir uns auf die Korrektheit der Ausgaben, die verwendeten Bibliotheken, die Laufzeitleistung sowie die allgemeine Qualität des Codes konzentrieren.\n",
    "\n",
    "Ziel des Projekts:\n",
    "Das Hauptziel dieser Untersuchung ist es, zu verstehen, wie LLMs mit unterschiedlichen Programmieraufgaben umgehen und wie die generierten Lösungen im Vergleich zueinander abschneiden. Dies wird uns wertvolle Einblicke in die Stärken und Schwächen der einzelnen Modelle geben und uns helfen, die besten Modelle für verschiedene Anwendungsfälle zu identifizieren.\n"
   ]
  },
  {
   "cell_type": "markdown",
   "metadata": {},
   "source": [
    "## Calculator"
   ]
  },
  {
   "cell_type": "markdown",
   "metadata": {},
   "source": [
    "__Prompt__: Write a Python program for a basic calculator that supports addition, subtraction, multiplication, and division."
   ]
  },
  {
   "cell_type": "markdown",
   "metadata": {},
   "source": [
    "### CodeLlama 13b:"
   ]
  },
  {
   "cell_type": "markdown",
   "metadata": {},
   "source": [
    "Folgende Antwort gibt CodeLlama 13b:"
   ]
  },
  {
   "cell_type": "markdown",
   "metadata": {},
   "source": [
    "```python\n",
    "class Calculator:\n",
    "    def add(self, num1, num2):\n",
    "        return num1 + num2\n",
    "    \n",
    "    def subtract(self, num1, num2):\n",
    "        return num1 - num2\n",
    "    \n",
    "    def multiply(self, num1, num2):\n",
    "        return num1 * num2\n",
    "    \n",
    "    def divide(self, num1, num2):\n",
    "        if num2 == 0:\n",
    "            raise ValueError(\"Cannot divide by zero\")\n",
    "        return num1 / num2\n",
    "```\n",
    "You can use this class as follows:\n",
    "```python\n",
    "calc = Calculator()\n",
    "result = calc.add(3, 4)\n",
    "print(result) # Output: 7\n",
    "\n",
    "result = calc.subtract(3, 4)\n",
    "print(result) # Output: -1\n",
    "\n",
    "result = calc.multiply(3, 4)\n",
    "print(result) # Output: 12\n",
    "\n",
    "result = calc.divide(6, 2)\n",
    "print(result) # Output: 3\n",
    "```\n",
    "You can also use the `+`, `-`, `*`, and `/` operators to perform the same operations:\n",
    "```python\n",
    "result = calc + 3 + 4\n",
    "print(result) # Output: 7\n",
    "\n",
    "result = calc - 3 - 4\n",
    "print(result) # Output: -1\n",
    "\n",
    "result = calc * 3 * 4\n",
    "print(result) # Output: 12\n",
    "\n",
    "result = calc / 6 / 2\n",
    "print(result) # Output: 3\n",
    "```\n",
    "Note that the `divide` method raises a `ValueError` if the divisor is zero. You can catch this error and handle it as needed in your program."
   ]
  },
  {
   "cell_type": "markdown",
   "metadata": {},
   "source": [
    "CodeLlama gibt einmal die Calculator Klasse aus, sowie 2 Varianten, wie sich die Klasse nutzen lässt."
   ]
  },
  {
   "cell_type": "markdown",
   "metadata": {},
   "source": [
    "#### Code-Analyse"
   ]
  },
  {
   "cell_type": "markdown",
   "metadata": {},
   "source": [
    "Die Klasse Calculator enthält vier grundlegende Methoden: add, subtract, multiply, und divide.\n",
    "Jede Methode akzeptiert zwei numerische Eingabewerte (num1 und num2) und führt eine Operation basierend auf der jeweiligen Methode aus.\n",
    "Diese Implementierung ermöglicht die grundlegenden arithmetischen Operationen, die man von einem Taschenrechner erwarten würde"
   ]
  },
  {
   "cell_type": "code",
   "execution_count": 5,
   "metadata": {},
   "outputs": [],
   "source": [
    "class Calculator:\n",
    "    def add(self, num1, num2):\n",
    "        return num1 + num2\n",
    "    \n",
    "    def subtract(self, num1, num2):\n",
    "        return num1 - num2\n",
    "    \n",
    "    def multiply(self, num1, num2):\n",
    "        return num1 * num2\n",
    "    \n",
    "    def divide(self, num1, num2):\n",
    "        if num2 == 0:\n",
    "            raise ValueError(\"Cannot divide by zero\")\n",
    "        return num1 / num2"
   ]
  },
  {
   "cell_type": "markdown",
   "metadata": {},
   "source": [
    "Erstes Anwendungsbeispiel instanziert das Calculator-Object und führt jede Operation einmal mit verschiedenen ganzan Zahlen durch. Beispiele funktionieren"
   ]
  },
  {
   "cell_type": "code",
   "execution_count": 6,
   "metadata": {},
   "outputs": [
    {
     "name": "stdout",
     "output_type": "stream",
     "text": [
      "7\n",
      "-1\n",
      "12\n",
      "3.0\n"
     ]
    }
   ],
   "source": [
    "\n",
    "calc = Calculator()\n",
    "result = calc.add(3, 4)\n",
    "print(result) # Output: 7\n",
    "\n",
    "result = calc.subtract(3, 4)\n",
    "print(result) # Output: -1\n",
    "\n",
    "result = calc.multiply(3, 4)\n",
    "print(result) # Output: 12\n",
    "\n",
    "result = calc.divide(6, 2)\n",
    "print(result) # Output: 3\n"
   ]
  },
  {
   "cell_type": "markdown",
   "metadata": {},
   "source": [
    "Der Code versucht, Operatoren wie +, -, *, und / direkt auf die Calculator-Instanz anzuwenden, was in Python nicht funktioniert. Die Calculator-Klasse hat keine Methoden zur Überladung dieser Operatoren. Ohne diese Überladung wirft Python einen TypeError, da calc nicht wie eine Zahl behandelt werden kann. Um dies zu ermöglichen, müsste die Klasse entsprechende Methoden wie __add__, __sub__ usw. implementieren."
   ]
  },
  {
   "cell_type": "code",
   "execution_count": 7,
   "metadata": {},
   "outputs": [
    {
     "ename": "TypeError",
     "evalue": "unsupported operand type(s) for +: 'Calculator' and 'int'",
     "output_type": "error",
     "traceback": [
      "\u001b[0;31m---------------------------------------------------------------------------\u001b[0m",
      "\u001b[0;31mTypeError\u001b[0m                                 Traceback (most recent call last)",
      "Cell \u001b[0;32mIn[7], line 1\u001b[0m\n\u001b[0;32m----> 1\u001b[0m result \u001b[38;5;241m=\u001b[39m \u001b[43mcalc\u001b[49m\u001b[43m \u001b[49m\u001b[38;5;241;43m+\u001b[39;49m\u001b[43m \u001b[49m\u001b[38;5;241;43m3\u001b[39;49m \u001b[38;5;241m+\u001b[39m \u001b[38;5;241m4\u001b[39m\n\u001b[1;32m      2\u001b[0m \u001b[38;5;28mprint\u001b[39m(result) \u001b[38;5;66;03m# Output: 7\u001b[39;00m\n\u001b[1;32m      4\u001b[0m result \u001b[38;5;241m=\u001b[39m calc \u001b[38;5;241m-\u001b[39m \u001b[38;5;241m3\u001b[39m \u001b[38;5;241m-\u001b[39m \u001b[38;5;241m4\u001b[39m\n",
      "\u001b[0;31mTypeError\u001b[0m: unsupported operand type(s) for +: 'Calculator' and 'int'"
     ]
    }
   ],
   "source": [
    "result = calc + 3 + 4\n",
    "print(result) # Output: 7\n",
    "\n",
    "result = calc - 3 - 4\n",
    "print(result) # Output: -1\n",
    "\n",
    "result = calc * 3 * 4\n",
    "print(result) # Output: 12\n",
    "\n",
    "result = calc / 6 / 2\n",
    "print(result) # Output: 3\n"
   ]
  },
  {
   "cell_type": "markdown",
   "metadata": {},
   "source": [
    "#### eigene Tests"
   ]
  },
  {
   "cell_type": "markdown",
   "metadata": {},
   "source": [
    "##### 1. Division durch 0"
   ]
  },
  {
   "cell_type": "code",
   "execution_count": 9,
   "metadata": {},
   "outputs": [
    {
     "name": "stdout",
     "output_type": "stream",
     "text": [
      "Cannot divide by zero\n"
     ]
    }
   ],
   "source": [
    "calc = Calculator()\n",
    "try:\n",
    "    result = calc.divide(5, 0)\n",
    "except ValueError as e:\n",
    "    print(e)"
   ]
  },
  {
   "cell_type": "markdown",
   "metadata": {},
   "source": [
    "##### 2. Extrem große Zahlen"
   ]
  },
  {
   "cell_type": "code",
   "execution_count": 13,
   "metadata": {},
   "outputs": [
    {
     "name": "stdout",
     "output_type": "stream",
     "text": [
      "2e+100\n",
      "0.0\n",
      "1e+200\n",
      "1.0\n"
     ]
    }
   ],
   "source": [
    "result = calc.add(1e100, 1e100)\n",
    "print(result)  # Ausgabe: 2e100\n",
    "\n",
    "result = calc.subtract(1e100, 1e100)\n",
    "print(result)  # Ausgabe: 0.0\n",
    "\n",
    "result = calc.multiply(1e100, 1e100)\n",
    "print(result)  # Ausgabe: 1e200\n",
    "\n",
    "result = calc.divide(1e100, 1e100)\n",
    "print(result)  # Ausgabe: 1.0\n"
   ]
  },
  {
   "cell_type": "markdown",
   "metadata": {},
   "source": [
    "##### 3.Fließkommazahlen"
   ]
  },
  {
   "cell_type": "code",
   "execution_count": 12,
   "metadata": {},
   "outputs": [
    {
     "name": "stdout",
     "output_type": "stream",
     "text": [
      "7.7\n",
      "-0.7000000000000002\n",
      "14.700000000000001\n",
      "3.0\n"
     ]
    }
   ],
   "source": [
    "result = calc.add(3.5, 4.2)\n",
    "print(result)  # Ausgabe: 7.7\n",
    "\n",
    "result = calc.subtract(3.5, 4.2)\n",
    "print(result)  # Ausgabe: -0.7\n",
    "\n",
    "result = calc.multiply(3.5, 4.2)\n",
    "print(result)  # Ausgabe: 14.7\n",
    "\n",
    "result = calc.divide(7.5, 2.5)\n",
    "print(result)  # Ausgabe: 3.0\n"
   ]
  },
  {
   "cell_type": "markdown",
   "metadata": {},
   "source": [
    "Die Werte -0.7000000000000002 und 14.700000000000001 entstehen durch die begrenzte Genauigkeit der Fließkommazahlen in der Computerarithmetik, bei der manche Dezimalzahlen nicht exakt dargestellt werden können, was zu minimalen Abweichungen führt."
   ]
  },
  {
   "cell_type": "markdown",
   "metadata": {},
   "source": [
    "##### 4. Nähe zu Null"
   ]
  },
  {
   "cell_type": "code",
   "execution_count": 14,
   "metadata": {},
   "outputs": [
    {
     "name": "stdout",
     "output_type": "stream",
     "text": [
      "2e-10\n",
      "0.0\n",
      "1.0\n",
      "1.0000000000000001e-20\n"
     ]
    }
   ],
   "source": [
    "result = calc.add(1e-10, 1e-10)\n",
    "print(result)  # Ausgabe: 2e-10\n",
    "\n",
    "result = calc.subtract(1e-10, 1e-10)\n",
    "print(result)  # Ausgabe: 0.0\n",
    "\n",
    "result = calc.multiply(1e-10, 1e10)\n",
    "print(result)  # Ausgabe: 1.0\n",
    "\n",
    "result = calc.divide(1e-10, 1e10)\n",
    "print(result)  # Ausgabe: 1e-20"
   ]
  },
  {
   "cell_type": "markdown",
   "metadata": {},
   "source": [
    "##### 5.Negative Division"
   ]
  },
  {
   "cell_type": "code",
   "execution_count": 15,
   "metadata": {},
   "outputs": [
    {
     "name": "stdout",
     "output_type": "stream",
     "text": [
      "-2.0\n",
      "-2.0\n",
      "2.0\n"
     ]
    }
   ],
   "source": [
    "result = calc.divide(-6, 3)\n",
    "print(result)  # Ausgabe: -2.0\n",
    "\n",
    "result = calc.divide(6, -3)\n",
    "print(result)  # Ausgabe: -2.0\n",
    "\n",
    "result = calc.divide(-6, -3)\n",
    "print(result)  # Ausgabe: 2.0\n"
   ]
  },
  {
   "cell_type": "markdown",
   "metadata": {},
   "source": [
    "##### 6. Große Division (Vermeidung von Überlauffehlern)"
   ]
  },
  {
   "cell_type": "code",
   "execution_count": 17,
   "metadata": {},
   "outputs": [
    {
     "name": "stdout",
     "output_type": "stream",
     "text": [
      "9.999999999999999e+49\n"
     ]
    }
   ],
   "source": [
    "result = calc.divide(1e100, 1e50)\n",
    "print(result)  # Ausgabe: 1e50"
   ]
  },
  {
   "cell_type": "markdown",
   "metadata": {},
   "source": [
    "Rückgabe der unpräzisen Darstellung im wissenschaftlichen Format"
   ]
  },
  {
   "cell_type": "markdown",
   "metadata": {},
   "source": [
    "##### 7. Falsche Argumente"
   ]
  },
  {
   "cell_type": "code",
   "execution_count": 20,
   "metadata": {},
   "outputs": [
    {
     "ename": "TypeError",
     "evalue": "can only concatenate str (not \"int\") to str",
     "output_type": "error",
     "traceback": [
      "\u001b[0;31m---------------------------------------------------------------------------\u001b[0m",
      "\u001b[0;31mTypeError\u001b[0m                                 Traceback (most recent call last)",
      "Cell \u001b[0;32mIn[20], line 1\u001b[0m\n\u001b[0;32m----> 1\u001b[0m result \u001b[38;5;241m=\u001b[39m \u001b[43mcalc\u001b[49m\u001b[38;5;241;43m.\u001b[39;49m\u001b[43madd\u001b[49m\u001b[43m(\u001b[49m\u001b[38;5;124;43m\"\u001b[39;49m\u001b[38;5;124;43mabc\u001b[39;49m\u001b[38;5;124;43m\"\u001b[39;49m\u001b[43m,\u001b[49m\u001b[43m \u001b[49m\u001b[38;5;241;43m5\u001b[39;49m\u001b[43m)\u001b[49m\n\u001b[1;32m      2\u001b[0m \u001b[38;5;28mprint\u001b[39m(\u001b[38;5;124m\"\u001b[39m\u001b[38;5;124mExpected TypeError:\u001b[39m\u001b[38;5;124m\"\u001b[39m, result)\n",
      "Cell \u001b[0;32mIn[5], line 3\u001b[0m, in \u001b[0;36mCalculator.add\u001b[0;34m(self, num1, num2)\u001b[0m\n\u001b[1;32m      2\u001b[0m \u001b[38;5;28;01mdef\u001b[39;00m\u001b[38;5;250m \u001b[39m\u001b[38;5;21madd\u001b[39m(\u001b[38;5;28mself\u001b[39m, num1, num2):\n\u001b[0;32m----> 3\u001b[0m     \u001b[38;5;28;01mreturn\u001b[39;00m \u001b[43mnum1\u001b[49m\u001b[43m \u001b[49m\u001b[38;5;241;43m+\u001b[39;49m\u001b[43m \u001b[49m\u001b[43mnum2\u001b[49m\n",
      "\u001b[0;31mTypeError\u001b[0m: can only concatenate str (not \"int\") to str"
     ]
    }
   ],
   "source": [
    "result = calc.add(\"abc\", 5)\n",
    "print(\"Expected TypeError:\", result)"
   ]
  },
  {
   "cell_type": "markdown",
   "metadata": {},
   "source": [
    "TypeError wird nicht abgefangen"
   ]
  }
 ],
 "metadata": {
  "kernelspec": {
   "display_name": "venv",
   "language": "python",
   "name": "python3"
  },
  "language_info": {
   "codemirror_mode": {
    "name": "ipython",
    "version": 3
   },
   "file_extension": ".py",
   "mimetype": "text/x-python",
   "name": "python",
   "nbconvert_exporter": "python",
   "pygments_lexer": "ipython3",
   "version": "3.9.6"
  }
 },
 "nbformat": 4,
 "nbformat_minor": 2
}
